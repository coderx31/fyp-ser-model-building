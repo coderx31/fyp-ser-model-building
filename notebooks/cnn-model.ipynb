{
 "cells": [
  {
   "cell_type": "markdown",
   "source": [
    "# Speech Emotion Recognition model Implementation using Deep Learning techniques\n",
    "\n",
    "in this approach, we combine the several datasets like RAVDESS, CREMA-D, TESS and SAVEE to improve the dataset for training\n",
    "\n",
    "Then we visualize the data distribution for each category and selected the \n",
    "- Neutral\n",
    "- Happy\n",
    "- Angry\n",
    "- Sad\n",
    "- Fear\n",
    "- Disgust\n",
    "\n",
    "\n",
    "Emotion categories for training. wth the help of data distribution, we balanced the dataset using over sampling techniques before training\n",
    "\n",
    "After balancing the dataset, MFCC (Mel Frequency Cepstral Coefficients) and Mel Spectrogram features extracted for training purposes. for those features, we use data augmentation techniques to improve the generalization of the model.\n",
    "\n",
    "CNN (convolutional neural network) used to build the emotion recognition model"
   ],
   "metadata": {
    "collapsed": false
   },
   "id": "f150eaf41088fb69"
  },
  {
   "cell_type": "code",
   "execution_count": 1,
   "outputs": [
    {
     "name": "stdout",
     "output_type": "stream",
     "text": [
      "Collecting pandas\r\n",
      "  Using cached pandas-2.0.3-cp38-cp38-macosx_11_0_arm64.whl.metadata (18 kB)\r\n",
      "Requirement already satisfied: python-dateutil>=2.8.2 in /Users/shenalfernando/anaconda3/envs/fyp-ser-model-implementation/lib/python3.8/site-packages (from pandas) (2.8.2)\r\n",
      "Requirement already satisfied: pytz>=2020.1 in /Users/shenalfernando/anaconda3/envs/fyp-ser-model-implementation/lib/python3.8/site-packages (from pandas) (2023.3.post1)\r\n",
      "Collecting tzdata>=2022.1 (from pandas)\r\n",
      "  Using cached tzdata-2024.1-py2.py3-none-any.whl.metadata (1.4 kB)\r\n",
      "Collecting numpy>=1.20.3 (from pandas)\r\n",
      "  Using cached numpy-1.24.4-cp38-cp38-macosx_11_0_arm64.whl.metadata (5.6 kB)\r\n",
      "Requirement already satisfied: six>=1.5 in /Users/shenalfernando/anaconda3/envs/fyp-ser-model-implementation/lib/python3.8/site-packages (from python-dateutil>=2.8.2->pandas) (1.16.0)\r\n",
      "Using cached pandas-2.0.3-cp38-cp38-macosx_11_0_arm64.whl (10.7 MB)\r\n",
      "Using cached numpy-1.24.4-cp38-cp38-macosx_11_0_arm64.whl (13.8 MB)\r\n",
      "Using cached tzdata-2024.1-py2.py3-none-any.whl (345 kB)\r\n",
      "Installing collected packages: tzdata, numpy, pandas\r\n",
      "Successfully installed numpy-1.24.4 pandas-2.0.3 tzdata-2024.1\r\n",
      "Requirement already satisfied: numpy in /Users/shenalfernando/anaconda3/envs/fyp-ser-model-implementation/lib/python3.8/site-packages (1.24.4)\r\n",
      "Collecting librosa\r\n",
      "  Using cached librosa-0.10.1-py3-none-any.whl.metadata (8.3 kB)\r\n",
      "Collecting audioread>=2.1.9 (from librosa)\r\n",
      "  Using cached audioread-3.0.1-py3-none-any.whl.metadata (8.4 kB)\r\n",
      "Requirement already satisfied: numpy!=1.22.0,!=1.22.1,!=1.22.2,>=1.20.3 in /Users/shenalfernando/anaconda3/envs/fyp-ser-model-implementation/lib/python3.8/site-packages (from librosa) (1.24.4)\r\n",
      "Collecting scipy>=1.2.0 (from librosa)\r\n",
      "  Downloading scipy-1.10.1-cp38-cp38-macosx_12_0_arm64.whl.metadata (53 kB)\r\n",
      "\u001B[2K     \u001B[90m━━━━━━━━━━━━━━━━━━━━━━━━━━━━━━━━━━━━━━━\u001B[0m \u001B[32m53.9/53.9 kB\u001B[0m \u001B[31m586.2 kB/s\u001B[0m eta \u001B[36m0:00:00\u001B[0m \u001B[36m0:00:01\u001B[0m\r\n",
      "\u001B[?25hCollecting scikit-learn>=0.20.0 (from librosa)\r\n",
      "  Using cached scikit_learn-1.3.2-cp38-cp38-macosx_12_0_arm64.whl.metadata (11 kB)\r\n",
      "Collecting joblib>=0.14 (from librosa)\r\n",
      "  Using cached joblib-1.3.2-py3-none-any.whl.metadata (5.4 kB)\r\n",
      "Requirement already satisfied: decorator>=4.3.0 in /Users/shenalfernando/anaconda3/envs/fyp-ser-model-implementation/lib/python3.8/site-packages (from librosa) (5.1.1)\r\n",
      "Collecting numba>=0.51.0 (from librosa)\r\n",
      "  Using cached numba-0.58.1-cp38-cp38-macosx_11_0_arm64.whl.metadata (2.7 kB)\r\n",
      "Collecting soundfile>=0.12.1 (from librosa)\r\n",
      "  Using cached soundfile-0.12.1-py2.py3-none-macosx_11_0_arm64.whl.metadata (14 kB)\r\n",
      "Collecting pooch>=1.0 (from librosa)\r\n",
      "  Using cached pooch-1.8.1-py3-none-any.whl.metadata (9.5 kB)\r\n",
      "Collecting soxr>=0.3.2 (from librosa)\r\n",
      "  Using cached soxr-0.3.7-cp38-cp38-macosx_11_0_arm64.whl.metadata (5.5 kB)\r\n",
      "Requirement already satisfied: typing-extensions>=4.1.1 in /Users/shenalfernando/anaconda3/envs/fyp-ser-model-implementation/lib/python3.8/site-packages (from librosa) (4.9.0)\r\n",
      "Collecting lazy-loader>=0.1 (from librosa)\r\n",
      "  Using cached lazy_loader-0.3-py3-none-any.whl.metadata (4.3 kB)\r\n",
      "Collecting msgpack>=1.0 (from librosa)\r\n",
      "  Using cached msgpack-1.0.7-cp38-cp38-macosx_11_0_arm64.whl.metadata (9.1 kB)\r\n",
      "Collecting llvmlite<0.42,>=0.41.0dev0 (from numba>=0.51.0->librosa)\r\n",
      "  Using cached llvmlite-0.41.1-cp38-cp38-macosx_11_0_arm64.whl.metadata (4.8 kB)\r\n",
      "Requirement already satisfied: importlib-metadata in /Users/shenalfernando/anaconda3/envs/fyp-ser-model-implementation/lib/python3.8/site-packages (from numba>=0.51.0->librosa) (7.0.1)\r\n",
      "Requirement already satisfied: platformdirs>=2.5.0 in /Users/shenalfernando/anaconda3/envs/fyp-ser-model-implementation/lib/python3.8/site-packages (from pooch>=1.0->librosa) (3.10.0)\r\n",
      "Requirement already satisfied: packaging>=20.0 in /Users/shenalfernando/anaconda3/envs/fyp-ser-model-implementation/lib/python3.8/site-packages (from pooch>=1.0->librosa) (23.1)\r\n",
      "Requirement already satisfied: requests>=2.19.0 in /Users/shenalfernando/anaconda3/envs/fyp-ser-model-implementation/lib/python3.8/site-packages (from pooch>=1.0->librosa) (2.31.0)\r\n",
      "Collecting threadpoolctl>=2.0.0 (from scikit-learn>=0.20.0->librosa)\r\n",
      "  Using cached threadpoolctl-3.3.0-py3-none-any.whl.metadata (13 kB)\r\n",
      "Requirement already satisfied: cffi>=1.0 in /Users/shenalfernando/anaconda3/envs/fyp-ser-model-implementation/lib/python3.8/site-packages (from soundfile>=0.12.1->librosa) (1.16.0)\r\n",
      "Requirement already satisfied: pycparser in /Users/shenalfernando/anaconda3/envs/fyp-ser-model-implementation/lib/python3.8/site-packages (from cffi>=1.0->soundfile>=0.12.1->librosa) (2.21)\r\n",
      "Requirement already satisfied: charset-normalizer<4,>=2 in /Users/shenalfernando/anaconda3/envs/fyp-ser-model-implementation/lib/python3.8/site-packages (from requests>=2.19.0->pooch>=1.0->librosa) (2.0.4)\r\n",
      "Requirement already satisfied: idna<4,>=2.5 in /Users/shenalfernando/anaconda3/envs/fyp-ser-model-implementation/lib/python3.8/site-packages (from requests>=2.19.0->pooch>=1.0->librosa) (3.4)\r\n",
      "Requirement already satisfied: urllib3<3,>=1.21.1 in /Users/shenalfernando/anaconda3/envs/fyp-ser-model-implementation/lib/python3.8/site-packages (from requests>=2.19.0->pooch>=1.0->librosa) (2.1.0)\r\n",
      "Requirement already satisfied: certifi>=2017.4.17 in /Users/shenalfernando/anaconda3/envs/fyp-ser-model-implementation/lib/python3.8/site-packages (from requests>=2.19.0->pooch>=1.0->librosa) (2024.2.2)\r\n",
      "Requirement already satisfied: zipp>=0.5 in /Users/shenalfernando/anaconda3/envs/fyp-ser-model-implementation/lib/python3.8/site-packages (from importlib-metadata->numba>=0.51.0->librosa) (3.17.0)\r\n",
      "Using cached librosa-0.10.1-py3-none-any.whl (253 kB)\r\n",
      "Using cached audioread-3.0.1-py3-none-any.whl (23 kB)\r\n",
      "Using cached joblib-1.3.2-py3-none-any.whl (302 kB)\r\n",
      "Using cached lazy_loader-0.3-py3-none-any.whl (9.1 kB)\r\n",
      "Using cached msgpack-1.0.7-cp38-cp38-macosx_11_0_arm64.whl (231 kB)\r\n",
      "Using cached numba-0.58.1-cp38-cp38-macosx_11_0_arm64.whl (2.6 MB)\r\n",
      "Using cached pooch-1.8.1-py3-none-any.whl (62 kB)\r\n",
      "Using cached scikit_learn-1.3.2-cp38-cp38-macosx_12_0_arm64.whl (9.4 MB)\r\n",
      "Using cached scipy-1.10.1-cp38-cp38-macosx_12_0_arm64.whl (28.8 MB)\r\n",
      "Using cached soundfile-0.12.1-py2.py3-none-macosx_11_0_arm64.whl (1.1 MB)\r\n",
      "Using cached soxr-0.3.7-cp38-cp38-macosx_11_0_arm64.whl (389 kB)\r\n",
      "Using cached llvmlite-0.41.1-cp38-cp38-macosx_11_0_arm64.whl (28.8 MB)\r\n",
      "Using cached threadpoolctl-3.3.0-py3-none-any.whl (17 kB)\r\n",
      "Installing collected packages: threadpoolctl, soxr, scipy, msgpack, llvmlite, lazy-loader, joblib, audioread, soundfile, scikit-learn, pooch, numba, librosa\r\n",
      "Successfully installed audioread-3.0.1 joblib-1.3.2 lazy-loader-0.3 librosa-0.10.1 llvmlite-0.41.1 msgpack-1.0.7 numba-0.58.1 pooch-1.8.1 scikit-learn-1.3.2 scipy-1.10.1 soundfile-0.12.1 soxr-0.3.7 threadpoolctl-3.3.0\r\n",
      "Collecting seaborn\r\n",
      "  Using cached seaborn-0.13.2-py3-none-any.whl.metadata (5.4 kB)\r\n",
      "Requirement already satisfied: numpy!=1.24.0,>=1.20 in /Users/shenalfernando/anaconda3/envs/fyp-ser-model-implementation/lib/python3.8/site-packages (from seaborn) (1.24.4)\r\n",
      "Requirement already satisfied: pandas>=1.2 in /Users/shenalfernando/anaconda3/envs/fyp-ser-model-implementation/lib/python3.8/site-packages (from seaborn) (2.0.3)\r\n",
      "Collecting matplotlib!=3.6.1,>=3.4 (from seaborn)\r\n",
      "  Downloading matplotlib-3.7.5-cp38-cp38-macosx_11_0_arm64.whl.metadata (5.7 kB)\r\n",
      "Collecting contourpy>=1.0.1 (from matplotlib!=3.6.1,>=3.4->seaborn)\r\n",
      "  Using cached contourpy-1.1.1-cp38-cp38-macosx_11_0_arm64.whl.metadata (5.9 kB)\r\n",
      "Collecting cycler>=0.10 (from matplotlib!=3.6.1,>=3.4->seaborn)\r\n",
      "  Using cached cycler-0.12.1-py3-none-any.whl.metadata (3.8 kB)\r\n",
      "Collecting fonttools>=4.22.0 (from matplotlib!=3.6.1,>=3.4->seaborn)\r\n",
      "  Downloading fonttools-4.49.0-cp38-cp38-macosx_10_9_universal2.whl.metadata (159 kB)\r\n",
      "\u001B[2K     \u001B[90m━━━━━━━━━━━━━━━━━━━━━━━━━━━━━━━━━━━━━━━\u001B[0m \u001B[32m159.1/159.1 kB\u001B[0m \u001B[31m1.2 MB/s\u001B[0m eta \u001B[36m0:00:00\u001B[0ma \u001B[36m0:00:01\u001B[0m\r\n",
      "\u001B[?25hCollecting kiwisolver>=1.0.1 (from matplotlib!=3.6.1,>=3.4->seaborn)\r\n",
      "  Using cached kiwisolver-1.4.5-cp38-cp38-macosx_11_0_arm64.whl.metadata (6.4 kB)\r\n",
      "Requirement already satisfied: packaging>=20.0 in /Users/shenalfernando/anaconda3/envs/fyp-ser-model-implementation/lib/python3.8/site-packages (from matplotlib!=3.6.1,>=3.4->seaborn) (23.1)\r\n",
      "Collecting pillow>=6.2.0 (from matplotlib!=3.6.1,>=3.4->seaborn)\r\n",
      "  Using cached pillow-10.2.0-cp38-cp38-macosx_11_0_arm64.whl.metadata (9.7 kB)\r\n",
      "Collecting pyparsing>=2.3.1 (from matplotlib!=3.6.1,>=3.4->seaborn)\r\n",
      "  Using cached pyparsing-3.1.1-py3-none-any.whl.metadata (5.1 kB)\r\n",
      "Requirement already satisfied: python-dateutil>=2.7 in /Users/shenalfernando/anaconda3/envs/fyp-ser-model-implementation/lib/python3.8/site-packages (from matplotlib!=3.6.1,>=3.4->seaborn) (2.8.2)\r\n",
      "Requirement already satisfied: importlib-resources>=3.2.0 in /Users/shenalfernando/anaconda3/envs/fyp-ser-model-implementation/lib/python3.8/site-packages (from matplotlib!=3.6.1,>=3.4->seaborn) (6.1.1)\r\n",
      "Requirement already satisfied: pytz>=2020.1 in /Users/shenalfernando/anaconda3/envs/fyp-ser-model-implementation/lib/python3.8/site-packages (from pandas>=1.2->seaborn) (2023.3.post1)\r\n",
      "Requirement already satisfied: tzdata>=2022.1 in /Users/shenalfernando/anaconda3/envs/fyp-ser-model-implementation/lib/python3.8/site-packages (from pandas>=1.2->seaborn) (2024.1)\r\n",
      "Requirement already satisfied: zipp>=3.1.0 in /Users/shenalfernando/anaconda3/envs/fyp-ser-model-implementation/lib/python3.8/site-packages (from importlib-resources>=3.2.0->matplotlib!=3.6.1,>=3.4->seaborn) (3.17.0)\r\n",
      "Requirement already satisfied: six>=1.5 in /Users/shenalfernando/anaconda3/envs/fyp-ser-model-implementation/lib/python3.8/site-packages (from python-dateutil>=2.7->matplotlib!=3.6.1,>=3.4->seaborn) (1.16.0)\r\n",
      "Using cached seaborn-0.13.2-py3-none-any.whl (294 kB)\r\n",
      "Downloading matplotlib-3.7.5-cp38-cp38-macosx_11_0_arm64.whl (7.3 MB)\r\n",
      "\u001B[2K   \u001B[90m━━━━━━━━━━━━━━━━━━━━━━━━━━━━━━━━━━━━━━━━\u001B[0m \u001B[32m7.3/7.3 MB\u001B[0m \u001B[31m10.1 MB/s\u001B[0m eta \u001B[36m0:00:00\u001B[0m00:01\u001B[0m00:01\u001B[0m\r\n",
      "\u001B[?25hUsing cached contourpy-1.1.1-cp38-cp38-macosx_11_0_arm64.whl (232 kB)\r\n",
      "Using cached cycler-0.12.1-py3-none-any.whl (8.3 kB)\r\n",
      "Downloading fonttools-4.49.0-cp38-cp38-macosx_10_9_universal2.whl (2.8 MB)\r\n",
      "\u001B[2K   \u001B[90m━━━━━━━━━━━━━━━━━━━━━━━━━━━━━━━━━━━━━━━━\u001B[0m \u001B[32m2.8/2.8 MB\u001B[0m \u001B[31m9.5 MB/s\u001B[0m eta \u001B[36m0:00:00\u001B[0m00:01\u001B[0m:00:01\u001B[0m\r\n",
      "\u001B[?25hUsing cached kiwisolver-1.4.5-cp38-cp38-macosx_11_0_arm64.whl (66 kB)\r\n",
      "Using cached pillow-10.2.0-cp38-cp38-macosx_11_0_arm64.whl (3.3 MB)\r\n",
      "Using cached pyparsing-3.1.1-py3-none-any.whl (103 kB)\r\n",
      "Installing collected packages: pyparsing, pillow, kiwisolver, fonttools, cycler, contourpy, matplotlib, seaborn\r\n",
      "Successfully installed contourpy-1.1.1 cycler-0.12.1 fonttools-4.49.0 kiwisolver-1.4.5 matplotlib-3.7.5 pillow-10.2.0 pyparsing-3.1.1 seaborn-0.13.2\r\n",
      "Requirement already satisfied: matplotlib in /Users/shenalfernando/anaconda3/envs/fyp-ser-model-implementation/lib/python3.8/site-packages (3.7.5)\r\n",
      "Requirement already satisfied: contourpy>=1.0.1 in /Users/shenalfernando/anaconda3/envs/fyp-ser-model-implementation/lib/python3.8/site-packages (from matplotlib) (1.1.1)\r\n",
      "Requirement already satisfied: cycler>=0.10 in /Users/shenalfernando/anaconda3/envs/fyp-ser-model-implementation/lib/python3.8/site-packages (from matplotlib) (0.12.1)\r\n",
      "Requirement already satisfied: fonttools>=4.22.0 in /Users/shenalfernando/anaconda3/envs/fyp-ser-model-implementation/lib/python3.8/site-packages (from matplotlib) (4.49.0)\r\n",
      "Requirement already satisfied: kiwisolver>=1.0.1 in /Users/shenalfernando/anaconda3/envs/fyp-ser-model-implementation/lib/python3.8/site-packages (from matplotlib) (1.4.5)\r\n",
      "Requirement already satisfied: numpy<2,>=1.20 in /Users/shenalfernando/anaconda3/envs/fyp-ser-model-implementation/lib/python3.8/site-packages (from matplotlib) (1.24.4)\r\n",
      "Requirement already satisfied: packaging>=20.0 in /Users/shenalfernando/anaconda3/envs/fyp-ser-model-implementation/lib/python3.8/site-packages (from matplotlib) (23.1)\r\n",
      "Requirement already satisfied: pillow>=6.2.0 in /Users/shenalfernando/anaconda3/envs/fyp-ser-model-implementation/lib/python3.8/site-packages (from matplotlib) (10.2.0)\r\n",
      "Requirement already satisfied: pyparsing>=2.3.1 in /Users/shenalfernando/anaconda3/envs/fyp-ser-model-implementation/lib/python3.8/site-packages (from matplotlib) (3.1.1)\r\n",
      "Requirement already satisfied: python-dateutil>=2.7 in /Users/shenalfernando/anaconda3/envs/fyp-ser-model-implementation/lib/python3.8/site-packages (from matplotlib) (2.8.2)\r\n",
      "Requirement already satisfied: importlib-resources>=3.2.0 in /Users/shenalfernando/anaconda3/envs/fyp-ser-model-implementation/lib/python3.8/site-packages (from matplotlib) (6.1.1)\r\n",
      "Requirement already satisfied: zipp>=3.1.0 in /Users/shenalfernando/anaconda3/envs/fyp-ser-model-implementation/lib/python3.8/site-packages (from importlib-resources>=3.2.0->matplotlib) (3.17.0)\r\n",
      "Requirement already satisfied: six>=1.5 in /Users/shenalfernando/anaconda3/envs/fyp-ser-model-implementation/lib/python3.8/site-packages (from python-dateutil>=2.7->matplotlib) (1.16.0)\r\n",
      "Requirement already satisfied: scikit-learn in /Users/shenalfernando/anaconda3/envs/fyp-ser-model-implementation/lib/python3.8/site-packages (1.3.2)\r\n",
      "Requirement already satisfied: numpy<2.0,>=1.17.3 in /Users/shenalfernando/anaconda3/envs/fyp-ser-model-implementation/lib/python3.8/site-packages (from scikit-learn) (1.24.4)\r\n",
      "Requirement already satisfied: scipy>=1.5.0 in /Users/shenalfernando/anaconda3/envs/fyp-ser-model-implementation/lib/python3.8/site-packages (from scikit-learn) (1.10.1)\r\n",
      "Requirement already satisfied: joblib>=1.1.1 in /Users/shenalfernando/anaconda3/envs/fyp-ser-model-implementation/lib/python3.8/site-packages (from scikit-learn) (1.3.2)\r\n",
      "Requirement already satisfied: threadpoolctl>=2.0.0 in /Users/shenalfernando/anaconda3/envs/fyp-ser-model-implementation/lib/python3.8/site-packages (from scikit-learn) (3.3.0)\r\n",
      "Collecting tensorflow\r\n",
      "  Using cached tensorflow-2.13.1-cp38-cp38-macosx_12_0_arm64.whl.metadata (2.6 kB)\r\n",
      "INFO: pip is looking at multiple versions of tensorflow to determine which version is compatible with other requirements. This could take a while.\r\n",
      "  Using cached tensorflow-2.13.0-cp38-cp38-macosx_12_0_arm64.whl.metadata (2.6 kB)\r\n",
      "Collecting tensorflow-macos==2.13.0 (from tensorflow)\r\n",
      "  Using cached tensorflow_macos-2.13.0-cp38-cp38-macosx_12_0_arm64.whl.metadata (3.2 kB)\r\n",
      "Collecting absl-py>=1.0.0 (from tensorflow-macos==2.13.0->tensorflow)\r\n",
      "  Using cached absl_py-2.1.0-py3-none-any.whl.metadata (2.3 kB)\r\n",
      "Collecting astunparse>=1.6.0 (from tensorflow-macos==2.13.0->tensorflow)\r\n",
      "  Using cached astunparse-1.6.3-py2.py3-none-any.whl (12 kB)\r\n",
      "Collecting flatbuffers>=23.1.21 (from tensorflow-macos==2.13.0->tensorflow)\r\n",
      "  Using cached flatbuffers-23.5.26-py2.py3-none-any.whl.metadata (850 bytes)\r\n",
      "Collecting gast<=0.4.0,>=0.2.1 (from tensorflow-macos==2.13.0->tensorflow)\r\n",
      "  Downloading gast-0.4.0-py3-none-any.whl.metadata (1.1 kB)\r\n",
      "Collecting google-pasta>=0.1.1 (from tensorflow-macos==2.13.0->tensorflow)\r\n",
      "  Using cached google_pasta-0.2.0-py3-none-any.whl (57 kB)\r\n",
      "Collecting h5py>=2.9.0 (from tensorflow-macos==2.13.0->tensorflow)\r\n",
      "  Using cached h5py-3.10.0-cp38-cp38-macosx_11_0_arm64.whl.metadata (2.5 kB)\r\n",
      "Collecting libclang>=13.0.0 (from tensorflow-macos==2.13.0->tensorflow)\r\n",
      "  Using cached libclang-16.0.6-py2.py3-none-macosx_11_0_arm64.whl.metadata (5.2 kB)\r\n",
      "Collecting numpy<=1.24.3,>=1.22 (from tensorflow-macos==2.13.0->tensorflow)\r\n",
      "  Downloading numpy-1.24.3-cp38-cp38-macosx_11_0_arm64.whl.metadata (5.6 kB)\r\n",
      "Collecting opt-einsum>=2.3.2 (from tensorflow-macos==2.13.0->tensorflow)\r\n",
      "  Using cached opt_einsum-3.3.0-py3-none-any.whl.metadata (6.5 kB)\r\n",
      "Requirement already satisfied: packaging in /Users/shenalfernando/anaconda3/envs/fyp-ser-model-implementation/lib/python3.8/site-packages (from tensorflow-macos==2.13.0->tensorflow) (23.1)\r\n",
      "Collecting protobuf!=4.21.0,!=4.21.1,!=4.21.2,!=4.21.3,!=4.21.4,!=4.21.5,<5.0.0dev,>=3.20.3 (from tensorflow-macos==2.13.0->tensorflow)\r\n",
      "  Using cached protobuf-4.25.3-cp37-abi3-macosx_10_9_universal2.whl.metadata (541 bytes)\r\n",
      "Requirement already satisfied: setuptools in /Users/shenalfernando/anaconda3/envs/fyp-ser-model-implementation/lib/python3.8/site-packages (from tensorflow-macos==2.13.0->tensorflow) (68.2.2)\r\n",
      "Requirement already satisfied: six>=1.12.0 in /Users/shenalfernando/anaconda3/envs/fyp-ser-model-implementation/lib/python3.8/site-packages (from tensorflow-macos==2.13.0->tensorflow) (1.16.0)\r\n",
      "Collecting termcolor>=1.1.0 (from tensorflow-macos==2.13.0->tensorflow)\r\n",
      "  Using cached termcolor-2.4.0-py3-none-any.whl.metadata (6.1 kB)\r\n",
      "Collecting typing-extensions<4.6.0,>=3.6.6 (from tensorflow-macos==2.13.0->tensorflow)\r\n",
      "  Downloading typing_extensions-4.5.0-py3-none-any.whl.metadata (8.5 kB)\r\n",
      "Collecting wrapt>=1.11.0 (from tensorflow-macos==2.13.0->tensorflow)\r\n",
      "  Using cached wrapt-1.16.0-cp38-cp38-macosx_11_0_arm64.whl.metadata (6.6 kB)\r\n",
      "Collecting grpcio<2.0,>=1.24.3 (from tensorflow-macos==2.13.0->tensorflow)\r\n",
      "  Downloading grpcio-1.62.0-cp38-cp38-macosx_10_10_universal2.whl.metadata (4.0 kB)\r\n",
      "Collecting tensorboard<2.14,>=2.13 (from tensorflow-macos==2.13.0->tensorflow)\r\n",
      "  Downloading tensorboard-2.13.0-py3-none-any.whl.metadata (1.8 kB)\r\n",
      "Collecting tensorflow-estimator<2.14,>=2.13.0 (from tensorflow-macos==2.13.0->tensorflow)\r\n",
      "  Using cached tensorflow_estimator-2.13.0-py2.py3-none-any.whl.metadata (1.3 kB)\r\n",
      "Collecting keras<2.14,>=2.13.1 (from tensorflow-macos==2.13.0->tensorflow)\r\n",
      "  Using cached keras-2.13.1-py3-none-any.whl.metadata (2.4 kB)\r\n",
      "Requirement already satisfied: wheel<1.0,>=0.23.0 in /Users/shenalfernando/anaconda3/envs/fyp-ser-model-implementation/lib/python3.8/site-packages (from astunparse>=1.6.0->tensorflow-macos==2.13.0->tensorflow) (0.41.2)\r\n",
      "Collecting google-auth<3,>=1.6.3 (from tensorboard<2.14,>=2.13->tensorflow-macos==2.13.0->tensorflow)\r\n",
      "  Using cached google_auth-2.28.1-py2.py3-none-any.whl.metadata (4.7 kB)\r\n",
      "Collecting google-auth-oauthlib<1.1,>=0.5 (from tensorboard<2.14,>=2.13->tensorflow-macos==2.13.0->tensorflow)\r\n",
      "  Downloading google_auth_oauthlib-1.0.0-py2.py3-none-any.whl.metadata (2.7 kB)\r\n",
      "Collecting markdown>=2.6.8 (from tensorboard<2.14,>=2.13->tensorflow-macos==2.13.0->tensorflow)\r\n",
      "  Using cached Markdown-3.5.2-py3-none-any.whl.metadata (7.0 kB)\r\n",
      "Requirement already satisfied: requests<3,>=2.21.0 in /Users/shenalfernando/anaconda3/envs/fyp-ser-model-implementation/lib/python3.8/site-packages (from tensorboard<2.14,>=2.13->tensorflow-macos==2.13.0->tensorflow) (2.31.0)\r\n",
      "Collecting tensorboard-data-server<0.8.0,>=0.7.0 (from tensorboard<2.14,>=2.13->tensorflow-macos==2.13.0->tensorflow)\r\n",
      "  Using cached tensorboard_data_server-0.7.2-py3-none-any.whl.metadata (1.1 kB)\r\n",
      "Collecting werkzeug>=1.0.1 (from tensorboard<2.14,>=2.13->tensorflow-macos==2.13.0->tensorflow)\r\n",
      "  Using cached werkzeug-3.0.1-py3-none-any.whl.metadata (4.1 kB)\r\n",
      "Collecting cachetools<6.0,>=2.0.0 (from google-auth<3,>=1.6.3->tensorboard<2.14,>=2.13->tensorflow-macos==2.13.0->tensorflow)\r\n",
      "  Using cached cachetools-5.3.3-py3-none-any.whl.metadata (5.3 kB)\r\n",
      "Collecting pyasn1-modules>=0.2.1 (from google-auth<3,>=1.6.3->tensorboard<2.14,>=2.13->tensorflow-macos==2.13.0->tensorflow)\r\n",
      "  Using cached pyasn1_modules-0.3.0-py2.py3-none-any.whl.metadata (3.6 kB)\r\n",
      "Collecting rsa<5,>=3.1.4 (from google-auth<3,>=1.6.3->tensorboard<2.14,>=2.13->tensorflow-macos==2.13.0->tensorflow)\r\n",
      "  Using cached rsa-4.9-py3-none-any.whl.metadata (4.2 kB)\r\n",
      "Collecting requests-oauthlib>=0.7.0 (from google-auth-oauthlib<1.1,>=0.5->tensorboard<2.14,>=2.13->tensorflow-macos==2.13.0->tensorflow)\r\n",
      "  Using cached requests_oauthlib-1.3.1-py2.py3-none-any.whl.metadata (10 kB)\r\n",
      "Requirement already satisfied: importlib-metadata>=4.4 in /Users/shenalfernando/anaconda3/envs/fyp-ser-model-implementation/lib/python3.8/site-packages (from markdown>=2.6.8->tensorboard<2.14,>=2.13->tensorflow-macos==2.13.0->tensorflow) (7.0.1)\r\n",
      "Requirement already satisfied: charset-normalizer<4,>=2 in /Users/shenalfernando/anaconda3/envs/fyp-ser-model-implementation/lib/python3.8/site-packages (from requests<3,>=2.21.0->tensorboard<2.14,>=2.13->tensorflow-macos==2.13.0->tensorflow) (2.0.4)\r\n",
      "Requirement already satisfied: idna<4,>=2.5 in /Users/shenalfernando/anaconda3/envs/fyp-ser-model-implementation/lib/python3.8/site-packages (from requests<3,>=2.21.0->tensorboard<2.14,>=2.13->tensorflow-macos==2.13.0->tensorflow) (3.4)\r\n",
      "Requirement already satisfied: urllib3<3,>=1.21.1 in /Users/shenalfernando/anaconda3/envs/fyp-ser-model-implementation/lib/python3.8/site-packages (from requests<3,>=2.21.0->tensorboard<2.14,>=2.13->tensorflow-macos==2.13.0->tensorflow) (2.1.0)\r\n",
      "Requirement already satisfied: certifi>=2017.4.17 in /Users/shenalfernando/anaconda3/envs/fyp-ser-model-implementation/lib/python3.8/site-packages (from requests<3,>=2.21.0->tensorboard<2.14,>=2.13->tensorflow-macos==2.13.0->tensorflow) (2024.2.2)\r\n",
      "Requirement already satisfied: MarkupSafe>=2.1.1 in /Users/shenalfernando/anaconda3/envs/fyp-ser-model-implementation/lib/python3.8/site-packages (from werkzeug>=1.0.1->tensorboard<2.14,>=2.13->tensorflow-macos==2.13.0->tensorflow) (2.1.3)\r\n",
      "Requirement already satisfied: zipp>=0.5 in /Users/shenalfernando/anaconda3/envs/fyp-ser-model-implementation/lib/python3.8/site-packages (from importlib-metadata>=4.4->markdown>=2.6.8->tensorboard<2.14,>=2.13->tensorflow-macos==2.13.0->tensorflow) (3.17.0)\r\n",
      "Collecting pyasn1<0.6.0,>=0.4.6 (from pyasn1-modules>=0.2.1->google-auth<3,>=1.6.3->tensorboard<2.14,>=2.13->tensorflow-macos==2.13.0->tensorflow)\r\n",
      "  Using cached pyasn1-0.5.1-py2.py3-none-any.whl.metadata (8.6 kB)\r\n",
      "Collecting oauthlib>=3.0.0 (from requests-oauthlib>=0.7.0->google-auth-oauthlib<1.1,>=0.5->tensorboard<2.14,>=2.13->tensorflow-macos==2.13.0->tensorflow)\r\n",
      "  Using cached oauthlib-3.2.2-py3-none-any.whl.metadata (7.5 kB)\r\n",
      "Using cached tensorflow-2.13.0-cp38-cp38-macosx_12_0_arm64.whl (1.9 kB)\r\n",
      "Using cached tensorflow_macos-2.13.0-cp38-cp38-macosx_12_0_arm64.whl (189.3 MB)\r\n",
      "Using cached absl_py-2.1.0-py3-none-any.whl (133 kB)\r\n",
      "Using cached flatbuffers-23.5.26-py2.py3-none-any.whl (26 kB)\r\n",
      "Using cached gast-0.4.0-py3-none-any.whl (9.8 kB)\r\n",
      "Downloading grpcio-1.62.0-cp38-cp38-macosx_10_10_universal2.whl (10.1 MB)\r\n",
      "\u001B[2K   \u001B[90m━━━━━━━━━━━━━━━━━━━━━━━━━━━━━━━━━━━━━━━━\u001B[0m \u001B[32m10.1/10.1 MB\u001B[0m \u001B[31m7.4 MB/s\u001B[0m eta \u001B[36m0:00:00\u001B[0m \u001B[36m0:00:01\u001B[0m\r\n",
      "\u001B[?25hUsing cached h5py-3.10.0-cp38-cp38-macosx_11_0_arm64.whl (2.7 MB)\r\n",
      "Using cached keras-2.13.1-py3-none-any.whl (1.7 MB)\r\n",
      "Using cached libclang-16.0.6-py2.py3-none-macosx_11_0_arm64.whl (20.6 MB)\r\n",
      "Using cached numpy-1.24.3-cp38-cp38-macosx_11_0_arm64.whl (13.8 MB)\r\n",
      "Using cached opt_einsum-3.3.0-py3-none-any.whl (65 kB)\r\n",
      "Using cached protobuf-4.25.3-cp37-abi3-macosx_10_9_universal2.whl (394 kB)\r\n",
      "Using cached tensorboard-2.13.0-py3-none-any.whl (5.6 MB)\r\n",
      "Using cached tensorflow_estimator-2.13.0-py2.py3-none-any.whl (440 kB)\r\n",
      "Using cached termcolor-2.4.0-py3-none-any.whl (7.7 kB)\r\n",
      "Using cached typing_extensions-4.5.0-py3-none-any.whl (27 kB)\r\n",
      "Using cached wrapt-1.16.0-cp38-cp38-macosx_11_0_arm64.whl (38 kB)\r\n",
      "Using cached google_auth-2.28.1-py2.py3-none-any.whl (186 kB)\r\n",
      "Using cached google_auth_oauthlib-1.0.0-py2.py3-none-any.whl (18 kB)\r\n",
      "Using cached Markdown-3.5.2-py3-none-any.whl (103 kB)\r\n",
      "Using cached tensorboard_data_server-0.7.2-py3-none-any.whl (2.4 kB)\r\n",
      "Using cached werkzeug-3.0.1-py3-none-any.whl (226 kB)\r\n",
      "Using cached cachetools-5.3.3-py3-none-any.whl (9.3 kB)\r\n",
      "Using cached pyasn1_modules-0.3.0-py2.py3-none-any.whl (181 kB)\r\n",
      "Using cached requests_oauthlib-1.3.1-py2.py3-none-any.whl (23 kB)\r\n",
      "Using cached rsa-4.9-py3-none-any.whl (34 kB)\r\n",
      "Using cached oauthlib-3.2.2-py3-none-any.whl (151 kB)\r\n",
      "Using cached pyasn1-0.5.1-py2.py3-none-any.whl (84 kB)\r\n",
      "Installing collected packages: libclang, flatbuffers, wrapt, werkzeug, typing-extensions, termcolor, tensorflow-estimator, tensorboard-data-server, pyasn1, protobuf, oauthlib, numpy, keras, grpcio, google-pasta, gast, cachetools, astunparse, absl-py, rsa, requests-oauthlib, pyasn1-modules, opt-einsum, markdown, h5py, google-auth, google-auth-oauthlib, tensorboard, tensorflow-macos, tensorflow\r\n",
      "  Attempting uninstall: typing-extensions\r\n",
      "    Found existing installation: typing_extensions 4.9.0\r\n",
      "    Uninstalling typing_extensions-4.9.0:\r\n",
      "      Successfully uninstalled typing_extensions-4.9.0\r\n",
      "  Attempting uninstall: numpy\r\n",
      "    Found existing installation: numpy 1.24.4\r\n",
      "    Uninstalling numpy-1.24.4:\r\n",
      "      Successfully uninstalled numpy-1.24.4\r\n",
      "Successfully installed absl-py-2.1.0 astunparse-1.6.3 cachetools-5.3.3 flatbuffers-23.5.26 gast-0.4.0 google-auth-2.28.1 google-auth-oauthlib-1.0.0 google-pasta-0.2.0 grpcio-1.62.0 h5py-3.10.0 keras-2.13.1 libclang-16.0.6 markdown-3.5.2 numpy-1.24.3 oauthlib-3.2.2 opt-einsum-3.3.0 protobuf-4.25.3 pyasn1-0.5.1 pyasn1-modules-0.3.0 requests-oauthlib-1.3.1 rsa-4.9 tensorboard-2.13.0 tensorboard-data-server-0.7.2 tensorflow-2.13.0 tensorflow-estimator-2.13.0 tensorflow-macos-2.13.0 termcolor-2.4.0 typing-extensions-4.5.0 werkzeug-3.0.1 wrapt-1.16.0\r\n",
      "Requirement already satisfied: keras in /Users/shenalfernando/anaconda3/envs/fyp-ser-model-implementation/lib/python3.8/site-packages (2.13.1)\r\n",
      "Collecting audiomentations\r\n",
      "  Using cached audiomentations-0.34.1-py3-none-any.whl.metadata (10 kB)\r\n",
      "Requirement already satisfied: numpy>=1.21.0 in /Users/shenalfernando/anaconda3/envs/fyp-ser-model-implementation/lib/python3.8/site-packages (from audiomentations) (1.24.3)\r\n",
      "Requirement already satisfied: librosa!=0.10.0,<0.11.0,>=0.8.0 in /Users/shenalfernando/anaconda3/envs/fyp-ser-model-implementation/lib/python3.8/site-packages (from audiomentations) (0.10.1)\r\n",
      "Requirement already satisfied: scipy<2,>=1.4.0 in /Users/shenalfernando/anaconda3/envs/fyp-ser-model-implementation/lib/python3.8/site-packages (from audiomentations) (1.10.1)\r\n",
      "Requirement already satisfied: soxr<1.0.0,>=0.3.2 in /Users/shenalfernando/anaconda3/envs/fyp-ser-model-implementation/lib/python3.8/site-packages (from audiomentations) (0.3.7)\r\n",
      "Requirement already satisfied: audioread>=2.1.9 in /Users/shenalfernando/anaconda3/envs/fyp-ser-model-implementation/lib/python3.8/site-packages (from librosa!=0.10.0,<0.11.0,>=0.8.0->audiomentations) (3.0.1)\r\n",
      "Requirement already satisfied: scikit-learn>=0.20.0 in /Users/shenalfernando/anaconda3/envs/fyp-ser-model-implementation/lib/python3.8/site-packages (from librosa!=0.10.0,<0.11.0,>=0.8.0->audiomentations) (1.3.2)\r\n",
      "Requirement already satisfied: joblib>=0.14 in /Users/shenalfernando/anaconda3/envs/fyp-ser-model-implementation/lib/python3.8/site-packages (from librosa!=0.10.0,<0.11.0,>=0.8.0->audiomentations) (1.3.2)\r\n",
      "Requirement already satisfied: decorator>=4.3.0 in /Users/shenalfernando/anaconda3/envs/fyp-ser-model-implementation/lib/python3.8/site-packages (from librosa!=0.10.0,<0.11.0,>=0.8.0->audiomentations) (5.1.1)\r\n",
      "Requirement already satisfied: numba>=0.51.0 in /Users/shenalfernando/anaconda3/envs/fyp-ser-model-implementation/lib/python3.8/site-packages (from librosa!=0.10.0,<0.11.0,>=0.8.0->audiomentations) (0.58.1)\r\n",
      "Requirement already satisfied: soundfile>=0.12.1 in /Users/shenalfernando/anaconda3/envs/fyp-ser-model-implementation/lib/python3.8/site-packages (from librosa!=0.10.0,<0.11.0,>=0.8.0->audiomentations) (0.12.1)\r\n",
      "Requirement already satisfied: pooch>=1.0 in /Users/shenalfernando/anaconda3/envs/fyp-ser-model-implementation/lib/python3.8/site-packages (from librosa!=0.10.0,<0.11.0,>=0.8.0->audiomentations) (1.8.1)\r\n",
      "Requirement already satisfied: typing-extensions>=4.1.1 in /Users/shenalfernando/anaconda3/envs/fyp-ser-model-implementation/lib/python3.8/site-packages (from librosa!=0.10.0,<0.11.0,>=0.8.0->audiomentations) (4.5.0)\r\n",
      "Requirement already satisfied: lazy-loader>=0.1 in /Users/shenalfernando/anaconda3/envs/fyp-ser-model-implementation/lib/python3.8/site-packages (from librosa!=0.10.0,<0.11.0,>=0.8.0->audiomentations) (0.3)\r\n",
      "Requirement already satisfied: msgpack>=1.0 in /Users/shenalfernando/anaconda3/envs/fyp-ser-model-implementation/lib/python3.8/site-packages (from librosa!=0.10.0,<0.11.0,>=0.8.0->audiomentations) (1.0.7)\r\n",
      "Requirement already satisfied: llvmlite<0.42,>=0.41.0dev0 in /Users/shenalfernando/anaconda3/envs/fyp-ser-model-implementation/lib/python3.8/site-packages (from numba>=0.51.0->librosa!=0.10.0,<0.11.0,>=0.8.0->audiomentations) (0.41.1)\r\n",
      "Requirement already satisfied: importlib-metadata in /Users/shenalfernando/anaconda3/envs/fyp-ser-model-implementation/lib/python3.8/site-packages (from numba>=0.51.0->librosa!=0.10.0,<0.11.0,>=0.8.0->audiomentations) (7.0.1)\r\n",
      "Requirement already satisfied: platformdirs>=2.5.0 in /Users/shenalfernando/anaconda3/envs/fyp-ser-model-implementation/lib/python3.8/site-packages (from pooch>=1.0->librosa!=0.10.0,<0.11.0,>=0.8.0->audiomentations) (3.10.0)\r\n",
      "Requirement already satisfied: packaging>=20.0 in /Users/shenalfernando/anaconda3/envs/fyp-ser-model-implementation/lib/python3.8/site-packages (from pooch>=1.0->librosa!=0.10.0,<0.11.0,>=0.8.0->audiomentations) (23.1)\r\n",
      "Requirement already satisfied: requests>=2.19.0 in /Users/shenalfernando/anaconda3/envs/fyp-ser-model-implementation/lib/python3.8/site-packages (from pooch>=1.0->librosa!=0.10.0,<0.11.0,>=0.8.0->audiomentations) (2.31.0)\r\n",
      "Requirement already satisfied: threadpoolctl>=2.0.0 in /Users/shenalfernando/anaconda3/envs/fyp-ser-model-implementation/lib/python3.8/site-packages (from scikit-learn>=0.20.0->librosa!=0.10.0,<0.11.0,>=0.8.0->audiomentations) (3.3.0)\r\n",
      "Requirement already satisfied: cffi>=1.0 in /Users/shenalfernando/anaconda3/envs/fyp-ser-model-implementation/lib/python3.8/site-packages (from soundfile>=0.12.1->librosa!=0.10.0,<0.11.0,>=0.8.0->audiomentations) (1.16.0)\r\n",
      "Requirement already satisfied: pycparser in /Users/shenalfernando/anaconda3/envs/fyp-ser-model-implementation/lib/python3.8/site-packages (from cffi>=1.0->soundfile>=0.12.1->librosa!=0.10.0,<0.11.0,>=0.8.0->audiomentations) (2.21)\r\n",
      "Requirement already satisfied: charset-normalizer<4,>=2 in /Users/shenalfernando/anaconda3/envs/fyp-ser-model-implementation/lib/python3.8/site-packages (from requests>=2.19.0->pooch>=1.0->librosa!=0.10.0,<0.11.0,>=0.8.0->audiomentations) (2.0.4)\r\n",
      "Requirement already satisfied: idna<4,>=2.5 in /Users/shenalfernando/anaconda3/envs/fyp-ser-model-implementation/lib/python3.8/site-packages (from requests>=2.19.0->pooch>=1.0->librosa!=0.10.0,<0.11.0,>=0.8.0->audiomentations) (3.4)\r\n",
      "Requirement already satisfied: urllib3<3,>=1.21.1 in /Users/shenalfernando/anaconda3/envs/fyp-ser-model-implementation/lib/python3.8/site-packages (from requests>=2.19.0->pooch>=1.0->librosa!=0.10.0,<0.11.0,>=0.8.0->audiomentations) (2.1.0)\r\n",
      "Requirement already satisfied: certifi>=2017.4.17 in /Users/shenalfernando/anaconda3/envs/fyp-ser-model-implementation/lib/python3.8/site-packages (from requests>=2.19.0->pooch>=1.0->librosa!=0.10.0,<0.11.0,>=0.8.0->audiomentations) (2024.2.2)\r\n",
      "Requirement already satisfied: zipp>=0.5 in /Users/shenalfernando/anaconda3/envs/fyp-ser-model-implementation/lib/python3.8/site-packages (from importlib-metadata->numba>=0.51.0->librosa!=0.10.0,<0.11.0,>=0.8.0->audiomentations) (3.17.0)\r\n",
      "Using cached audiomentations-0.34.1-py3-none-any.whl (76 kB)\r\n",
      "Installing collected packages: audiomentations\r\n",
      "Successfully installed audiomentations-0.34.1\r\n"
     ]
    }
   ],
   "source": [
    "!pip install pandas\n",
    "!pip install numpy\n",
    "!pip install librosa\n",
    "!pip install seaborn\n",
    "!pip install matplotlib\n",
    "!pip install scikit-learn\n",
    "!pip install tensorflow\n",
    "!pip install keras\n",
    "!pip install audiomentations"
   ],
   "metadata": {
    "collapsed": false,
    "ExecuteTime": {
     "end_time": "2024-02-28T14:40:06.329379Z",
     "start_time": "2024-02-28T14:39:30.747355Z"
    }
   },
   "id": "bef005eafc1afc84"
  },
  {
   "cell_type": "code",
   "execution_count": 2,
   "outputs": [],
   "source": [
    "import pandas as pd\n",
    "import numpy as np\n",
    "\n",
    "import os\n",
    "import sys\n",
    "\n",
    "# librosa is a Python library for analyzing audio and music. It can be used to extract the data from the audio files we will see it later.\n",
    "import librosa\n",
    "import librosa.display\n",
    "import seaborn as sns\n",
    "import matplotlib.pyplot as plt\n",
    "\n",
    "from sklearn.preprocessing import StandardScaler, OneHotEncoder\n",
    "from sklearn.metrics import confusion_matrix, classification_report\n",
    "from sklearn.model_selection import train_test_split\n",
    "from sklearn.utils import resample\n",
    "\n",
    "# to play the audio files\n",
    "from IPython.display import Audio\n",
    "\n",
    "import keras\n",
    "from keras.callbacks import ReduceLROnPlateau, EarlyStopping\n",
    "from keras.models import Sequential\n",
    "from keras.layers import Dense, Conv1D, MaxPooling1D, Flatten, Dropout\n",
    "\n",
    "from audiomentations import Compose, TimeStretch, PitchShift\n",
    "\n",
    "import warnings\n",
    "\n",
    "if not sys.warnoptions:\n",
    "    warnings.simplefilter(\"ignore\")\n",
    "warnings.filterwarnings(\"ignore\", category=DeprecationWarning)"
   ],
   "metadata": {
    "collapsed": false,
    "ExecuteTime": {
     "end_time": "2024-02-28T14:41:19.109940Z",
     "start_time": "2024-02-28T14:40:30.256206Z"
    }
   },
   "id": "33f418a087cbbfd"
  },
  {
   "cell_type": "code",
   "execution_count": 3,
   "outputs": [],
   "source": [
    "# datasets paths\n",
    "\n",
    "Ravdess = \"/Users/shenalfernando/Documents/FYP/Implementation/ravdess-dataset/\"\n",
    "Crema = \"/Users/shenalfernando/Documents/FYP/Implementation/CREMA-D/\"\n",
    "Tess = \"/Users/shenalfernando/Documents/FYP/Implementation/TESS/\"\n",
    "Savee = \"/Users/shenalfernando/Documents/FYP/Implementation/SAVEE/\""
   ],
   "metadata": {
    "collapsed": false,
    "ExecuteTime": {
     "end_time": "2024-02-28T14:42:16.552507Z",
     "start_time": "2024-02-28T14:42:16.547291Z"
    }
   },
   "id": "9795c4e3c845b15b"
  },
  {
   "cell_type": "code",
   "execution_count": 4,
   "outputs": [],
   "source": [
    "# Constants\n",
    "EMOTION_COL = \"Emotions\"\n",
    "PATH_COL = \"Path\"\n",
    "\n",
    "NEUTRAL = \"neutral\"\n",
    "CALM = \"calm\"\n",
    "HAPPY = \"happy\"\n",
    "SAD = \"sad\"\n",
    "ANGRY = \"angry\"\n",
    "FEAR = \"fear\"\n",
    "DISGUST = \"disgust\"\n",
    "SURPRISE = \"surprise\"\n",
    "\n",
    "\n",
    "ZCR = \"ZCR\"\n",
    "CHROMA_STFT = \"CHROMA_STFT\"\n",
    "MFCC = \"MFCC\"\n",
    "RMS = \"RMS\"\n",
    "MEL_SPECTROGRAM = \"MEL_SPECTROGRAM\"\n",
    "TEAGER_ENERGY_MFCC = \"TEAGER_ENERGY_MFCC\""
   ],
   "metadata": {
    "collapsed": false,
    "ExecuteTime": {
     "end_time": "2024-02-28T14:42:31.344047Z",
     "start_time": "2024-02-28T14:42:31.338433Z"
    }
   },
   "id": "ea809d9c0c6a9f00"
  },
  {
   "cell_type": "markdown",
   "source": [
    "## Helper function extract the emotion and path from ravdess dataset\n",
    "\n",
    "This helper function is used to extract the emotion category and the speech file path and create a \n",
    "dataframe using these values (emotion - path)\n",
    "\n",
    "Ryerson Audio-Visual Database of Emotional Speech and Song (RAVDESS) is a dataset that usually used for speech emotion recognition model implementations. Here we use a portion of the dataset for academic purposes. this portion contains 1440 files which are 12 male and 12 female actors vocalizing two lexically-matched statements in North American Accent. this contains calm, happy, sad, angry, fearful, surprise, and disgust expressions. Each expression is produced at two levels of emotional intensity (normal, strong), with an additional neutral expression.\n",
    "\n",
    "Filename Identifiers\n",
    "- Modality (01 = Full-AV, 02 = Video Only, 03 = Audio Only).\n",
    "- Vocal Channel (01=speech, 02=song).\n",
    "- Emotion (01 = neutral, 02 = calm, 03 = happy, 04 = sad, 05 = angry, 06 = fearful, 07 = disgust, 08 = surprised).\n",
    "- Emotional intensity (01 = normal, 02 = strong). NOTE: There is no strong intensity for the 'neutral' emotion.\n",
    "- Statement (01 = \"Kids are talking by the door\", 02 = \"Dogs are sitting by the door\").\n",
    "- Repetition (01 = 1st repetition, 02 = 2nd repetition).\n",
    "- Actor (01 to 24. Odd numbered actors are male, even numbered actors are female).\n",
    "\n",
    "Filename example: 03-01-06-01-02-01-12.wav\n",
    "1. Audio-only (03)\n",
    "2. Speech (01)\n",
    "3. Fearful (06)\n",
    "4. Normal intensity (01)\n",
    "5. Statement \"dogs\" (02)\n",
    "6. 1st Repetition (01)\n",
    "7. 12th Actor (12)"
   ],
   "metadata": {
    "collapsed": false
   },
   "id": "a73aaac0245e3ff9"
  },
  {
   "cell_type": "code",
   "execution_count": 5,
   "outputs": [],
   "source": [
    "# function to re-assemble the emotion with file_path in RAVDESS dataset\n",
    "def assemble_ravdess_dataset(dataset_path):\n",
    "    ravdess_dataset = os.listdir(dataset_path)\n",
    "    emotions = []\n",
    "    paths = []\n",
    "\n",
    "    for directory in ravdess_dataset:\n",
    "        actor_folder = os.listdir(dataset_path + directory)\n",
    "        for file in actor_folder:\n",
    "            file_name = file.split(\".\")[0]\n",
    "            parts = file_name.split(\"-\")\n",
    "            emotions.append(int(parts[2]))  # get the emotion category according to the number present file name\n",
    "            paths.append(dataset_path + directory + \"/\" + file)\n",
    "\n",
    "    # data frame for emotions\n",
    "    emotion_df = pd.DataFrame(emotions, columns=[EMOTION_COL])\n",
    "\n",
    "    # data frame for paths\n",
    "    path_df = pd.DataFrame(paths, columns=[PATH_COL])\n",
    "\n",
    "    ravdess_df = pd.concat([emotion_df, path_df], axis=1)\n",
    "    ravdess_df.Emotions.replace({\n",
    "        1: NEUTRAL,\n",
    "        2: CALM,\n",
    "        3: HAPPY,\n",
    "        4: SAD,\n",
    "        5: ANGRY,\n",
    "        6: FEAR,\n",
    "        7: DISGUST,\n",
    "        8: SURPRISE\n",
    "    }, inplace=True)\n",
    "\n",
    "    return ravdess_df"
   ],
   "metadata": {
    "collapsed": false,
    "ExecuteTime": {
     "end_time": "2024-02-28T14:43:28.247251Z",
     "start_time": "2024-02-28T14:43:28.232693Z"
    }
   },
   "id": "41785fd2574187b1"
  },
  {
   "cell_type": "markdown",
   "source": [
    "## Helper function extract the emotion and path from crema-d dataset\n",
    "\n",
    "This helper function is used to extract the emotion category and the speech file path and create a \n",
    "dataframe using these values (emotion - path)\n",
    "\n",
    "CREMA-D is a data set of 7,442 original clips from 91 actors. These clips were from 48 male and 43 female actors between the ages of 20 and 74 coming from a variety of races and ethnicities (African America, Asian, Caucasian, Hispanic, and Unspecified). Actors spoke from a selection of 12 sentences. The sentences were presented using one of six different emotions (Anger, Disgust, Fear, Happy, Neutral, and Sad) and four different emotion levels (Low, Medium, High, and Unspecified).\n",
    "\n",
    "Example File Name\n",
    "1001_DFA_ANG_XX.wav\n",
    "1001_IEO_ANG_HI.wav"
   ],
   "metadata": {
    "collapsed": false
   },
   "id": "45cb251b4aeda11c"
  },
  {
   "cell_type": "code",
   "execution_count": 6,
   "outputs": [],
   "source": [
    "# function to re-assemble the emotion with file_path in CREMA-D dataset\n",
    "def assemble_crema_dataset(dataset_path):\n",
    "    crema_dataset = os.listdir(dataset_path)\n",
    "\n",
    "    emotions = []\n",
    "    paths = []\n",
    "\n",
    "    for file in crema_dataset:\n",
    "        paths.append(dataset_path + file)\n",
    "        parts = file.split('_')\n",
    "        if parts[2] == 'SAD':\n",
    "            emotions.append(SAD)\n",
    "        elif parts[2] == 'ANG':\n",
    "            emotions.append(ANGRY)\n",
    "        elif parts[2] == 'DIS':\n",
    "            emotions.append(DISGUST)\n",
    "        elif parts[2] == 'FEA':\n",
    "            emotions.append(FEAR)\n",
    "        elif parts[2] == 'HAP':\n",
    "            emotions.append(HAPPY)\n",
    "        elif parts[2] == 'NEU':\n",
    "            emotions.append(NEUTRAL)\n",
    "        else:\n",
    "            emotions.append('Unknown')\n",
    "\n",
    "    emotions_df = pd.DataFrame(emotions, columns=[EMOTION_COL])\n",
    "    paths_df = pd.DataFrame(paths, columns=[PATH_COL])\n",
    "\n",
    "    crema_df = pd.concat([emotions_df, paths_df], axis=1)\n",
    "    return crema_df"
   ],
   "metadata": {
    "collapsed": false,
    "ExecuteTime": {
     "end_time": "2024-02-28T14:44:07.322258Z",
     "start_time": "2024-02-28T14:44:07.307044Z"
    }
   },
   "id": "c149fac144388417"
  },
  {
   "cell_type": "markdown",
   "source": [
    "## Helper function extract emotion and the path from tess dataset\n",
    "\n",
    "There are a set of 200 target words were spoken in the carrier phrase \"Say the word _' by two actresses (aged 26 and 64 years) and recordings were made of the set portraying each of seven emotions (anger, disgust, fear, happiness, pleasant surprise, sadness, and neutral). There are 2800 data points (audio files) in total.\n",
    "\n",
    "Example Filename\n",
    "OAF_back_fear.wav"
   ],
   "metadata": {
    "collapsed": false
   },
   "id": "df5cede43303c240"
  },
  {
   "cell_type": "code",
   "execution_count": 7,
   "outputs": [],
   "source": [
    "# function to re-assemble the emotion with file_path in TESS dataset\n",
    "def assemble_tess_dataset(dataset_path):\n",
    "    tess_dataset = os.listdir(dataset_path)\n",
    "\n",
    "    emotions = []\n",
    "    paths = []\n",
    "\n",
    "    for directory in tess_dataset:\n",
    "        directories = os.listdir(dataset_path + directory)\n",
    "        for file in directories:\n",
    "            file_name = file.split('.')[0]\n",
    "            emotion = file_name.split('_')[2]\n",
    "            if emotion == 'ps':\n",
    "                emotions.append(SURPRISE)\n",
    "            else:\n",
    "                emotions.append(emotion)\n",
    "            paths.append(dataset_path + directory + \"/\" + file)\n",
    "\n",
    "    emotions_df = pd.DataFrame(emotions, columns=[EMOTION_COL])\n",
    "    paths_df = pd.DataFrame(paths, columns=[PATH_COL])\n",
    "\n",
    "    tess_df = pd.concat([emotions_df, paths_df], axis=1)\n",
    "    return tess_df"
   ],
   "metadata": {
    "collapsed": false,
    "ExecuteTime": {
     "end_time": "2024-02-28T14:44:30.192494Z",
     "start_time": "2024-02-28T14:44:30.179132Z"
    }
   },
   "id": "4c55a3e46f5574ea"
  },
  {
   "cell_type": "markdown",
   "source": [
    "## Helper function to extract emotion and path from the SAVEE dataset\n",
    "\n",
    "The SAVEE database was recorded from four native English male speakers (identified as DC, JE, JK, KL), postgraduate students and researchers at the University of Surrey aged from 27 to 31 years. Emotion has been described psychologically in discrete categories: anger, disgust, fear, happiness, sadness and surprise. A neutral category is also added to provide recordings of 7 emotion categories.\n",
    "\n",
    "Example Filename\n",
    "DC_a06.wav"
   ],
   "metadata": {
    "collapsed": false
   },
   "id": "a17dce2981d23ce5"
  },
  {
   "cell_type": "code",
   "execution_count": 8,
   "outputs": [],
   "source": [
    "# function to re-assemble the emotion with file_path in SAVEE dataset\n",
    "def assemble_savee_dataset(dataset_path):\n",
    "    savee_dataset = os.listdir(dataset_path)\n",
    "\n",
    "    emotions = []\n",
    "    paths = []\n",
    "\n",
    "    for file in savee_dataset:\n",
    "        paths.append(dataset_path + file)\n",
    "        parts = file.split('_')[1]\n",
    "        emotion = parts[:-6]\n",
    "        if emotion == 'a':\n",
    "            emotions.append('angry')\n",
    "        elif emotion == 'd':\n",
    "            emotions.append('disgust')\n",
    "        elif emotion == 'f':\n",
    "            emotions.append('fear')\n",
    "        elif emotion == 'h':\n",
    "            emotions.append('happy')\n",
    "        elif emotion == 'n':\n",
    "            emotions.append('neutral')\n",
    "        elif emotion == 'sa':\n",
    "            emotions.append('sad')\n",
    "        else:\n",
    "            emotions.append('surprise')\n",
    "\n",
    "    emotions_df = pd.DataFrame(emotions, columns=[EMOTION_COL])\n",
    "    paths_df = pd.DataFrame(paths, columns=[PATH_COL])\n",
    "\n",
    "    savee_df = pd.concat([emotions_df, paths_df], axis=1)\n",
    "    return savee_df"
   ],
   "metadata": {
    "collapsed": false,
    "ExecuteTime": {
     "end_time": "2024-02-28T14:45:05.336128Z",
     "start_time": "2024-02-28T14:45:05.318623Z"
    }
   },
   "id": "65adfec09e30023c"
  },
  {
   "cell_type": "markdown",
   "source": [
    "## Some Helper functions for data preprocessing and visualization"
   ],
   "metadata": {
    "collapsed": false
   },
   "id": "a159ccca7d41d4d6"
  },
  {
   "cell_type": "code",
   "execution_count": 44,
   "outputs": [],
   "source": [
    "# to combine several dataframes. Ex: Ravdess + Crema + Tess + Savee\n",
    "def combine_dataframes(dataframes):\n",
    "    emotions_dataset = pd.concat(dataframes, axis=0)\n",
    "    emotions_dataset.to_csv(\"data_path.csv\", index=False)\n",
    "\n",
    "    return emotions_dataset\n",
    "\n",
    "\n",
    "# to visualize the dataframe\n",
    "def visualize_dataset(dataset_path, title, x_label, y_label):\n",
    "    plt.title(title, size=16)\n",
    "    sns.countplot(dataset_path, x=EMOTION_COL)\n",
    "    plt.xlabel(x_label, size=12)\n",
    "    plt.ylabel(y_label, size=12)\n",
    "    sns.despine(top=True, right=True, left=False, bottom=False)\n",
    "    plt.show()\n",
    "    \n",
    "\n",
    "# to visualize the wave    \n",
    "def display_wave(data, sample_rate, emotion):\n",
    "    plt.figure(figsize=(10, 3))\n",
    "    plt.title('Wave for audio with {} emotion'.format(emotion), size=15)\n",
    "    librosa.display.waveshow(data, sr=sample_rate)\n",
    "    plt.show()\n",
    "    \n",
    "\n",
    "# to visualize the losses\n",
    "def visualize_training(epochs, history):\n",
    "    num_of_epochs = [i for i in range(epochs)]\n",
    "    figure, ax = plt.subplots(1,2)\n",
    "    training_accuracy = history.history['accuracy']\n",
    "    training_loss = history.history['loss']\n",
    "    testing_accuracy = history.history['val_accuracy']\n",
    "    testing_loss = history.history['val_loss']\n",
    "    \n",
    "    figure.set_size_inches(40, 12)\n",
    "    \n",
    "    ax[0].plot(num_of_epochs, training_loss, label='Training Loss')\n",
    "    ax[0].plot(num_of_epochs, testing_loss, label='Testing Loss')\n",
    "    ax[0].set_title('Training & Testing Loss')\n",
    "    ax[0].legend()\n",
    "    ax[0].set_xlabel('Epochs')\n",
    "    \n",
    "    ax[1].plot(num_of_epochs, training_accuracy, label='Training Accuracy')\n",
    "    ax[1].plot(num_of_epochs, testing_accuracy, label='Testing Accuracy')\n",
    "    ax[1].set_title('Training & Testing Accuracy')\n",
    "    ax[1].legend()\n",
    "    ax[1].set_xlabel('Epochs')\n",
    "    \n",
    "    plt.show()\n",
    "    \n",
    "    \n",
    "# visualize the confusion matrix report\n",
    "def display_confusion_matrix(y_test, y_pred):\n",
    "    cm = confusion_matrix(y_test, y_pred)\n",
    "    plt.figure(figsize=(12,10))\n",
    "    sns.heatmap(cm, linecolor='white', cmap='Blues', linewidths=1, annot=True, fmt='')\n",
    "    plt.title('Confusion Matrix', size=20)\n",
    "    plt.xlabel('Predicted Labels', size=14)\n",
    "    plt.ylabel('Actual Labels', size=14)\n",
    "    plt.show()\n",
    "    \n",
    "# to visualize the spectrogram    \n",
    "def display_spectrogram(data, sample_rate, emotion):\n",
    "    x = librosa.stft(data)\n",
    "    xdb = librosa.amplitude_to_db(abs(x))\n",
    "    plt.figure(figsize=(12, 3))\n",
    "    plt.title('Spectrogram for audio with {} emotion'.format(emotion), size=15)\n",
    "    librosa.display.specshow(xdb, sr=sample_rate, x_axis='time', y_axis='hz')\n",
    "    plt.colorbar()"
   ],
   "metadata": {
    "collapsed": false,
    "ExecuteTime": {
     "end_time": "2024-02-28T16:27:24.097131Z",
     "start_time": "2024-02-28T16:27:24.075544Z"
    }
   },
   "id": "ff7b4706787ec931"
  },
  {
   "cell_type": "markdown",
   "source": [
    "## Data Augmentation techniques for speech emotion recognition"
   ],
   "metadata": {
    "collapsed": false
   },
   "id": "91aa2a69d1a37a50"
  },
  {
   "cell_type": "code",
   "execution_count": 10,
   "outputs": [],
   "source": [
    "# data augmentation using audiomentations\n",
    "def signal_augmentation_pitch_shift(signal, sample_rate):\n",
    "    augment = Compose([\n",
    "        PitchShift(min_semitones=-8, max_semitones=8, p=1)\n",
    "    ])\n",
    "    \n",
    "    augmented_signal = augment(signal, sample_rate)\n",
    "    return augmented_signal\n",
    "\n",
    "\n",
    "def signal_augmentation_time_stretch(signal, sample_rate):\n",
    "    augment = Compose([\n",
    "        TimeStretch(min_rate=0.8, max_rate=1.2, leave_length_unchanged=False, p=1)\n",
    "    ])\n",
    "    \n",
    "    augmented_signal = augment(signal, sample_rate)\n",
    "    return augmented_signal"
   ],
   "metadata": {
    "collapsed": false,
    "ExecuteTime": {
     "end_time": "2024-02-28T14:46:01.644015Z",
     "start_time": "2024-02-28T14:46:01.621641Z"
    }
   },
   "id": "9fa746799732d675"
  },
  {
   "cell_type": "markdown",
   "source": [
    "## feature extraction helper functions"
   ],
   "metadata": {
    "collapsed": false
   },
   "id": "b8deb44909aba38c"
  },
  {
   "cell_type": "code",
   "execution_count": 11,
   "outputs": [],
   "source": [
    "# extract zero cross rate feature\n",
    "def extract_zcr_feature(data):\n",
    "    zcr = np.mean(librosa.feature.zero_crossing_rate(y=data).T, axis=0)\n",
    "    return zcr\n",
    "\n",
    "\n",
    "# extract Chroma_stft\n",
    "def extract_chroma_stft(data, sample_rate):\n",
    "    stft = np.abs(librosa.stft(data))\n",
    "    chroma_stft = np.mean(librosa.feature.chroma_stft(S=stft, sr=sample_rate).T, axis=0)\n",
    "    return chroma_stft\n",
    "\n",
    "\n",
    "\n",
    "# extract MFCC\n",
    "def extract_mfcc(data, sample_rate):\n",
    "    mfcc = np.mean(librosa.feature.mfcc(y=data, sr=sample_rate).T, axis=0)\n",
    "    return mfcc\n",
    "\n",
    "\n",
    "# extract Root Mean Square Value\n",
    "def extract_rms(data):\n",
    "    rms = np.mean(librosa.feature.rms(y=data).T, axis=0)\n",
    "    return rms\n",
    "\n",
    "\n",
    "# extract mel spectrogram\n",
    "def extract_mel_spectrogram(data, sample_rate):\n",
    "    mel_spectrogram = np.mean(librosa.feature.melspectrogram(y=data, sr=sample_rate).T, axis=0)\n",
    "    return mel_spectrogram\n",
    "\n",
    "\n",
    "# Teager Energy Based MFCC feature\n",
    "def extract_teager_energy_mfcc(data, sample_rate):\n",
    "    teager_energy = librosa.effects.preemphasis(data)\n",
    "    teager_mfcc = np.mean(librosa.feature.mfcc(y=teager_energy, sr=sample_rate).T, axis=0)\n",
    "    return teager_mfcc"
   ],
   "metadata": {
    "collapsed": false,
    "ExecuteTime": {
     "end_time": "2024-02-28T14:46:39.003943Z",
     "start_time": "2024-02-28T14:46:38.983543Z"
    }
   },
   "id": "4fe4fbe25b4210ae"
  },
  {
   "cell_type": "markdown",
   "source": [
    "## feature combine helper functions"
   ],
   "metadata": {
    "collapsed": false
   },
   "id": "a1181b4e29394bc2"
  },
  {
   "cell_type": "code",
   "execution_count": 12,
   "outputs": [],
   "source": [
    "# feature combinations\n",
    "def extract_features(features, signal, sample_rate):\n",
    "    result = np.array([])\n",
    "    \n",
    "    if ZCR in features:\n",
    "        zcr = extract_zcr_feature(signal)\n",
    "        result = np.hstack((result, zcr))\n",
    "        \n",
    "    if CHROMA_STFT in features:\n",
    "        chroma_stft = extract_chroma_stft(signal, sample_rate)\n",
    "        result = np.hstack((result, chroma_stft))\n",
    "    \n",
    "    if MFCC in features:\n",
    "        mfcc_features = extract_mfcc(signal, sample_rate)\n",
    "        result = np.hstack((result, mfcc_features))\n",
    "        \n",
    "    if RMS in features:\n",
    "        rms = extract_rms(signal)\n",
    "        result = np.hstack((result, rms))\n",
    "        \n",
    "    if MEL_SPECTROGRAM in features:\n",
    "        mel_spectrogram = extract_mel_spectrogram(signal, sample_rate)\n",
    "        result = np.hstack((result, mel_spectrogram))\n",
    "        \n",
    "    return result\n",
    "\n",
    "\n",
    "# feature combination for SER\n",
    "def combine_features(path):\n",
    "  signal, sample_rate = librosa.load(path)\n",
    "\n",
    "  # without augmentation\n",
    "  pure_result = extract_features([MFCC, MEL_SPECTROGRAM], signal, sample_rate)\n",
    "  result = np.array(pure_result)\n",
    "\n",
    "  pitch_shift_signal = signal_augmentation_pitch_shift(signal, sample_rate)\n",
    "  pitch_shift_result = extract_features([MFCC, MEL_SPECTROGRAM], pitch_shift_signal, sample_rate)\n",
    "  result = np.vstack((result, pitch_shift_result))\n",
    "  \n",
    "  time_stretch_signal = signal_augmentation_time_stretch(signal, sample_rate)\n",
    "  time_stretch_result = extract_features([MFCC, MEL_SPECTROGRAM], time_stretch_signal, sample_rate)\n",
    "  result = np.vstack((result, time_stretch_result))\n",
    "\n",
    "  return result"
   ],
   "metadata": {
    "collapsed": false,
    "ExecuteTime": {
     "end_time": "2024-02-28T14:49:04.090225Z",
     "start_time": "2024-02-28T14:49:04.068383Z"
    }
   },
   "id": "ce5590feba73a0d5"
  },
  {
   "cell_type": "markdown",
   "source": [
    "## CNN Model Implementation for Speech Emotion Recognition"
   ],
   "metadata": {
    "collapsed": false
   },
   "id": "f051e96ce9141dcf"
  },
  {
   "cell_type": "code",
   "execution_count": 34,
   "outputs": [],
   "source": [
    "def create_cnn_model(input_shape, filters, kernel_size, dropout):\n",
    "    model = Sequential()\n",
    "    \n",
    "    model.add(Conv1D(filters, kernel_size=kernel_size, activation='relu', input_shape=input_shape))\n",
    "    model.add(MaxPooling1D(pool_size=2))\n",
    "    model.add(Conv1D(filters * 2, kernel_size=kernel_size, activation='relu'))\n",
    "    model.add(MaxPooling1D(pool_size=2))\n",
    "    model.add(Conv1D(filters * 4, kernel_size=kernel_size, activation='relu'))\n",
    "    model.add(MaxPooling1D(pool_size=2))\n",
    "    \n",
    "    model.add(Flatten())\n",
    "    \n",
    "    model.add(Dense(256, activation='relu'))\n",
    "    model.add(Dropout(dropout))\n",
    "    model.add(Dense(6, activation='softmax'))\n",
    "    \n",
    "    model.compile(optimizer = 'adam' , loss = 'sparse_categorical_crossentropy' , metrics = ['accuracy'])\n",
    "    \n",
    "    return model"
   ],
   "metadata": {
    "collapsed": false,
    "ExecuteTime": {
     "end_time": "2024-02-28T15:13:08.833950Z",
     "start_time": "2024-02-28T15:13:08.805942Z"
    }
   },
   "id": "dbcaf2ef50040b73"
  },
  {
   "cell_type": "markdown",
   "source": [
    "## re-assembled dataframes for each dataset"
   ],
   "metadata": {
    "collapsed": false
   },
   "id": "534a3f88ebcb5618"
  },
  {
   "cell_type": "code",
   "execution_count": 14,
   "outputs": [
    {
     "data": {
      "text/plain": "  Emotions                                               Path\n0    angry  /Users/shenalfernando/Documents/FYP/Implementa...\n1     fear  /Users/shenalfernando/Documents/FYP/Implementa...\n2     fear  /Users/shenalfernando/Documents/FYP/Implementa...\n3    angry  /Users/shenalfernando/Documents/FYP/Implementa...\n4  disgust  /Users/shenalfernando/Documents/FYP/Implementa...",
      "text/html": "<div>\n<style scoped>\n    .dataframe tbody tr th:only-of-type {\n        vertical-align: middle;\n    }\n\n    .dataframe tbody tr th {\n        vertical-align: top;\n    }\n\n    .dataframe thead th {\n        text-align: right;\n    }\n</style>\n<table border=\"1\" class=\"dataframe\">\n  <thead>\n    <tr style=\"text-align: right;\">\n      <th></th>\n      <th>Emotions</th>\n      <th>Path</th>\n    </tr>\n  </thead>\n  <tbody>\n    <tr>\n      <th>0</th>\n      <td>angry</td>\n      <td>/Users/shenalfernando/Documents/FYP/Implementa...</td>\n    </tr>\n    <tr>\n      <th>1</th>\n      <td>fear</td>\n      <td>/Users/shenalfernando/Documents/FYP/Implementa...</td>\n    </tr>\n    <tr>\n      <th>2</th>\n      <td>fear</td>\n      <td>/Users/shenalfernando/Documents/FYP/Implementa...</td>\n    </tr>\n    <tr>\n      <th>3</th>\n      <td>angry</td>\n      <td>/Users/shenalfernando/Documents/FYP/Implementa...</td>\n    </tr>\n    <tr>\n      <th>4</th>\n      <td>disgust</td>\n      <td>/Users/shenalfernando/Documents/FYP/Implementa...</td>\n    </tr>\n  </tbody>\n</table>\n</div>"
     },
     "execution_count": 14,
     "metadata": {},
     "output_type": "execute_result"
    }
   ],
   "source": [
    "ravdess_df = assemble_ravdess_dataset(Ravdess)\n",
    "ravdess_df.head()"
   ],
   "metadata": {
    "collapsed": false,
    "ExecuteTime": {
     "end_time": "2024-02-28T14:50:19.957865Z",
     "start_time": "2024-02-28T14:50:19.931169Z"
    }
   },
   "id": "c2b5fb1724f1161c"
  },
  {
   "cell_type": "code",
   "execution_count": 15,
   "outputs": [
    {
     "data": {
      "text/plain": "  Emotions                                               Path\n0    angry  /Users/shenalfernando/Documents/FYP/Implementa...\n1    angry  /Users/shenalfernando/Documents/FYP/Implementa...\n2  neutral  /Users/shenalfernando/Documents/FYP/Implementa...\n3  neutral  /Users/shenalfernando/Documents/FYP/Implementa...\n4  disgust  /Users/shenalfernando/Documents/FYP/Implementa...",
      "text/html": "<div>\n<style scoped>\n    .dataframe tbody tr th:only-of-type {\n        vertical-align: middle;\n    }\n\n    .dataframe tbody tr th {\n        vertical-align: top;\n    }\n\n    .dataframe thead th {\n        text-align: right;\n    }\n</style>\n<table border=\"1\" class=\"dataframe\">\n  <thead>\n    <tr style=\"text-align: right;\">\n      <th></th>\n      <th>Emotions</th>\n      <th>Path</th>\n    </tr>\n  </thead>\n  <tbody>\n    <tr>\n      <th>0</th>\n      <td>angry</td>\n      <td>/Users/shenalfernando/Documents/FYP/Implementa...</td>\n    </tr>\n    <tr>\n      <th>1</th>\n      <td>angry</td>\n      <td>/Users/shenalfernando/Documents/FYP/Implementa...</td>\n    </tr>\n    <tr>\n      <th>2</th>\n      <td>neutral</td>\n      <td>/Users/shenalfernando/Documents/FYP/Implementa...</td>\n    </tr>\n    <tr>\n      <th>3</th>\n      <td>neutral</td>\n      <td>/Users/shenalfernando/Documents/FYP/Implementa...</td>\n    </tr>\n    <tr>\n      <th>4</th>\n      <td>disgust</td>\n      <td>/Users/shenalfernando/Documents/FYP/Implementa...</td>\n    </tr>\n  </tbody>\n</table>\n</div>"
     },
     "execution_count": 15,
     "metadata": {},
     "output_type": "execute_result"
    }
   ],
   "source": [
    "crema_df = assemble_crema_dataset(Crema)\n",
    "crema_df.head()"
   ],
   "metadata": {
    "collapsed": false,
    "ExecuteTime": {
     "end_time": "2024-02-28T14:50:32.669753Z",
     "start_time": "2024-02-28T14:50:32.628337Z"
    }
   },
   "id": "fde2d629e5e02d01"
  },
  {
   "cell_type": "code",
   "execution_count": 16,
   "outputs": [
    {
     "data": {
      "text/plain": "  Emotions                                               Path\n0  disgust  /Users/shenalfernando/Documents/FYP/Implementa...\n1  disgust  /Users/shenalfernando/Documents/FYP/Implementa...\n2  disgust  /Users/shenalfernando/Documents/FYP/Implementa...\n3  disgust  /Users/shenalfernando/Documents/FYP/Implementa...\n4  disgust  /Users/shenalfernando/Documents/FYP/Implementa...",
      "text/html": "<div>\n<style scoped>\n    .dataframe tbody tr th:only-of-type {\n        vertical-align: middle;\n    }\n\n    .dataframe tbody tr th {\n        vertical-align: top;\n    }\n\n    .dataframe thead th {\n        text-align: right;\n    }\n</style>\n<table border=\"1\" class=\"dataframe\">\n  <thead>\n    <tr style=\"text-align: right;\">\n      <th></th>\n      <th>Emotions</th>\n      <th>Path</th>\n    </tr>\n  </thead>\n  <tbody>\n    <tr>\n      <th>0</th>\n      <td>disgust</td>\n      <td>/Users/shenalfernando/Documents/FYP/Implementa...</td>\n    </tr>\n    <tr>\n      <th>1</th>\n      <td>disgust</td>\n      <td>/Users/shenalfernando/Documents/FYP/Implementa...</td>\n    </tr>\n    <tr>\n      <th>2</th>\n      <td>disgust</td>\n      <td>/Users/shenalfernando/Documents/FYP/Implementa...</td>\n    </tr>\n    <tr>\n      <th>3</th>\n      <td>disgust</td>\n      <td>/Users/shenalfernando/Documents/FYP/Implementa...</td>\n    </tr>\n    <tr>\n      <th>4</th>\n      <td>disgust</td>\n      <td>/Users/shenalfernando/Documents/FYP/Implementa...</td>\n    </tr>\n  </tbody>\n</table>\n</div>"
     },
     "execution_count": 16,
     "metadata": {},
     "output_type": "execute_result"
    }
   ],
   "source": [
    "tess_df = assemble_tess_dataset(Tess)\n",
    "tess_df.head()"
   ],
   "metadata": {
    "collapsed": false,
    "ExecuteTime": {
     "end_time": "2024-02-28T14:50:45.223562Z",
     "start_time": "2024-02-28T14:50:45.199837Z"
    }
   },
   "id": "af17030af774d742"
  },
  {
   "cell_type": "code",
   "execution_count": 17,
   "outputs": [
    {
     "data": {
      "text/plain": "   Emotions                                               Path\n0       sad  /Users/shenalfernando/Documents/FYP/Implementa...\n1       sad  /Users/shenalfernando/Documents/FYP/Implementa...\n2   neutral  /Users/shenalfernando/Documents/FYP/Implementa...\n3  surprise  /Users/shenalfernando/Documents/FYP/Implementa...\n4   neutral  /Users/shenalfernando/Documents/FYP/Implementa...",
      "text/html": "<div>\n<style scoped>\n    .dataframe tbody tr th:only-of-type {\n        vertical-align: middle;\n    }\n\n    .dataframe tbody tr th {\n        vertical-align: top;\n    }\n\n    .dataframe thead th {\n        text-align: right;\n    }\n</style>\n<table border=\"1\" class=\"dataframe\">\n  <thead>\n    <tr style=\"text-align: right;\">\n      <th></th>\n      <th>Emotions</th>\n      <th>Path</th>\n    </tr>\n  </thead>\n  <tbody>\n    <tr>\n      <th>0</th>\n      <td>sad</td>\n      <td>/Users/shenalfernando/Documents/FYP/Implementa...</td>\n    </tr>\n    <tr>\n      <th>1</th>\n      <td>sad</td>\n      <td>/Users/shenalfernando/Documents/FYP/Implementa...</td>\n    </tr>\n    <tr>\n      <th>2</th>\n      <td>neutral</td>\n      <td>/Users/shenalfernando/Documents/FYP/Implementa...</td>\n    </tr>\n    <tr>\n      <th>3</th>\n      <td>surprise</td>\n      <td>/Users/shenalfernando/Documents/FYP/Implementa...</td>\n    </tr>\n    <tr>\n      <th>4</th>\n      <td>neutral</td>\n      <td>/Users/shenalfernando/Documents/FYP/Implementa...</td>\n    </tr>\n  </tbody>\n</table>\n</div>"
     },
     "execution_count": 17,
     "metadata": {},
     "output_type": "execute_result"
    }
   ],
   "source": [
    "savee_df = assemble_savee_dataset(Savee)\n",
    "savee_df.head()"
   ],
   "metadata": {
    "collapsed": false,
    "ExecuteTime": {
     "end_time": "2024-02-28T14:51:03.040823Z",
     "start_time": "2024-02-28T14:51:03.012940Z"
    }
   },
   "id": "e42fba9da4688126"
  },
  {
   "cell_type": "code",
   "execution_count": 18,
   "outputs": [
    {
     "data": {
      "text/plain": "  Emotions                                               Path\n0    angry  /Users/shenalfernando/Documents/FYP/Implementa...\n1     fear  /Users/shenalfernando/Documents/FYP/Implementa...\n2     fear  /Users/shenalfernando/Documents/FYP/Implementa...\n3    angry  /Users/shenalfernando/Documents/FYP/Implementa...\n4  disgust  /Users/shenalfernando/Documents/FYP/Implementa...",
      "text/html": "<div>\n<style scoped>\n    .dataframe tbody tr th:only-of-type {\n        vertical-align: middle;\n    }\n\n    .dataframe tbody tr th {\n        vertical-align: top;\n    }\n\n    .dataframe thead th {\n        text-align: right;\n    }\n</style>\n<table border=\"1\" class=\"dataframe\">\n  <thead>\n    <tr style=\"text-align: right;\">\n      <th></th>\n      <th>Emotions</th>\n      <th>Path</th>\n    </tr>\n  </thead>\n  <tbody>\n    <tr>\n      <th>0</th>\n      <td>angry</td>\n      <td>/Users/shenalfernando/Documents/FYP/Implementa...</td>\n    </tr>\n    <tr>\n      <th>1</th>\n      <td>fear</td>\n      <td>/Users/shenalfernando/Documents/FYP/Implementa...</td>\n    </tr>\n    <tr>\n      <th>2</th>\n      <td>fear</td>\n      <td>/Users/shenalfernando/Documents/FYP/Implementa...</td>\n    </tr>\n    <tr>\n      <th>3</th>\n      <td>angry</td>\n      <td>/Users/shenalfernando/Documents/FYP/Implementa...</td>\n    </tr>\n    <tr>\n      <th>4</th>\n      <td>disgust</td>\n      <td>/Users/shenalfernando/Documents/FYP/Implementa...</td>\n    </tr>\n  </tbody>\n</table>\n</div>"
     },
     "execution_count": 18,
     "metadata": {},
     "output_type": "execute_result"
    }
   ],
   "source": [
    "# combining all the data\n",
    "emotion_dataframes = combine_dataframes([ravdess_df, crema_df, tess_df, savee_df])\n",
    "emotion_dataframes.head()"
   ],
   "metadata": {
    "collapsed": false,
    "ExecuteTime": {
     "end_time": "2024-02-28T14:51:17.106855Z",
     "start_time": "2024-02-28T14:51:17.066720Z"
    }
   },
   "id": "47be801fdeb7ea89"
  },
  {
   "cell_type": "code",
   "execution_count": 19,
   "outputs": [
    {
     "data": {
      "text/plain": "<Figure size 640x480 with 1 Axes>",
      "image/png": "[encoded data removed]"
     },
     "metadata": {},
     "output_type": "display_data"
    }
   ],
   "source": [
    "# visualizing the dataset\n",
    "visualize_dataset(emotion_dataframes, 'Total Count of Emotion', 'Emotions', 'Count')"
   ],
   "metadata": {
    "collapsed": false,
    "ExecuteTime": {
     "end_time": "2024-02-28T14:51:29.337818Z",
     "start_time": "2024-02-28T14:51:28.625044Z"
    }
   },
   "id": "ff1bf23f7d484bb7"
  },
  {
   "cell_type": "code",
   "execution_count": 20,
   "outputs": [
    {
     "name": "stdout",
     "output_type": "stream",
     "text": [
      "Emotion count for each category\n",
      "Emotions\n",
      "angry       1923\n",
      "fear        1923\n",
      "disgust     1923\n",
      "sad         1923\n",
      "happy       1923\n",
      "neutral     1703\n",
      "surprise     652\n",
      "calm         192\n",
      "Name: count, dtype: int64\n",
      "-------------------------------------------\n",
      "Filtered emotion count for each category\n",
      "Emotions\n",
      "angry      1923\n",
      "fear       1923\n",
      "disgust    1923\n",
      "sad        1923\n",
      "happy      1923\n",
      "neutral    1703\n",
      "Name: count, dtype: int64\n",
      "-------------------------------------------\n",
      "1923\n",
      "Balanced emotion count for each category\n",
      "Emotions\n",
      "angry      1923\n",
      "fear       1923\n",
      "disgust    1923\n",
      "sad        1923\n",
      "happy      1923\n",
      "neutral    1923\n",
      "Name: count, dtype: int64\n"
     ]
    }
   ],
   "source": [
    "# analyze the dataset and balance the dataframe for training with oversampling\n",
    "print(\"Emotion count for each category\")\n",
    "emotion_counts = emotion_dataframes.Emotions.value_counts()\n",
    "print(emotion_counts)\n",
    "print('-------------------------------------------')\n",
    "\n",
    "print(\"Filtered emotion count for each category\")\n",
    "invalid_emotions = [SURPRISE, CALM]\n",
    "filtered_df = emotion_dataframes[~emotion_dataframes[EMOTION_COL].isin(invalid_emotions)]\n",
    "filtered_emotion_counts = filtered_df.Emotions.value_counts()\n",
    "print(filtered_emotion_counts)\n",
    "print('-------------------------------------------')\n",
    "\n",
    "max_emotion_count = filtered_emotion_counts.max()\n",
    "print(max_emotion_count)\n",
    "\n",
    "# oversampling process\n",
    "emotions_to_oversample = [NEUTRAL]\n",
    "\n",
    "oversample_data = []\n",
    "\n",
    "for emotion in emotions_to_oversample:\n",
    "    oversampled_row = filtered_df[filtered_df[EMOTION_COL] == emotion].sample(max_emotion_count - emotion_counts[emotion], replace=True)\n",
    "    oversample_data.append(oversampled_row)\n",
    "\n",
    "print(\"Balanced emotion count for each category\")\n",
    "balanced_data_oversample = pd.concat([filtered_df] + oversample_data)\n",
    "balanced_data_count = balanced_data_oversample.Emotions.value_counts()\n",
    "print(balanced_data_count)"
   ],
   "metadata": {
    "collapsed": false,
    "ExecuteTime": {
     "end_time": "2024-02-28T14:51:43.084543Z",
     "start_time": "2024-02-28T14:51:43.059765Z"
    }
   },
   "id": "ce6c0a181e3f91f6"
  },
  {
   "cell_type": "code",
   "execution_count": 21,
   "outputs": [
    {
     "data": {
      "text/plain": "<Figure size 640x480 with 1 Axes>",
      "image/png": "[encoded data removed]"
     },
     "metadata": {},
     "output_type": "display_data"
    }
   ],
   "source": [
    "# visualize the balanced dataset\n",
    "visualize_dataset(balanced_data_oversample, 'Total Count of Emotion', 'Emotions', 'Count')"
   ],
   "metadata": {
    "collapsed": false,
    "ExecuteTime": {
     "end_time": "2024-02-28T14:52:01.138507Z",
     "start_time": "2024-02-28T14:52:01.054326Z"
    }
   },
   "id": "bfaa9b3570a859bc"
  },
  {
   "cell_type": "code",
   "execution_count": 22,
   "outputs": [
    {
     "name": "stdout",
     "output_type": "stream",
     "text": [
      "Feature extraction and combination is success\n"
     ]
    }
   ],
   "source": [
    "# get all features using over sampling data\n",
    "X, Y = [], []\n",
    "for path, emotion in zip(balanced_data_oversample.Path, balanced_data_oversample.Emotions):\n",
    "    features = combine_features(path)\n",
    "    for feature in features:\n",
    "        X.append(feature)\n",
    "        Y.append(emotion)\n",
    "\n",
    "print('Feature extraction and combination is success')"
   ],
   "metadata": {
    "collapsed": false,
    "ExecuteTime": {
     "end_time": "2024-02-28T15:04:03.718660Z",
     "start_time": "2024-02-28T14:53:06.551713Z"
    }
   },
   "id": "c8c5411eada60237"
  },
  {
   "cell_type": "code",
   "execution_count": 24,
   "outputs": [
    {
     "data": {
      "text/plain": "(34614, 34614, (11538,))"
     },
     "execution_count": 24,
     "metadata": {},
     "output_type": "execute_result"
    }
   ],
   "source": [
    "len(X), len(Y), balanced_data_oversample.Path.shape"
   ],
   "metadata": {
    "collapsed": false,
    "ExecuteTime": {
     "end_time": "2024-02-28T15:05:21.786680Z",
     "start_time": "2024-02-28T15:05:21.756947Z"
    }
   },
   "id": "d2e5290a043ade61"
  },
  {
   "cell_type": "code",
   "execution_count": 25,
   "outputs": [
    {
     "data": {
      "text/plain": "            0          1          2          3          4          5  \\\n0 -542.260559  33.782993  -3.803620   3.091988  -9.681703  -6.023736   \n1 -570.159729  30.117447  -7.453498  -2.850819 -14.895274  -8.587306   \n2 -577.448364  34.654255  -4.908528   1.294168 -11.147126  -6.210771   \n3 -550.819153  37.232445  -5.966861   4.732355  -2.008577  -9.404687   \n4 -576.079102  56.723660 -13.233316  15.551181  -7.347561  10.781767   \n\n           6          7          8          9  ...           139  \\\n0  -8.644806 -11.424563 -11.615019  -1.289247  ...  4.270245e-03   \n1 -14.607397 -13.201256  -5.196628  -2.455241  ...  1.703547e-03   \n2  -9.283228 -12.457656 -12.527025  -0.288357  ...  1.712110e-03   \n3 -14.451254 -14.265598  -8.414462   0.758801  ...  1.824054e-03   \n4  -8.620719  -1.634438 -14.533536 -16.820402  ...  2.571960e-15   \n\n            140           141           142           143           144  \\\n0  2.580150e-03  3.102504e-03  2.955016e-03  3.657512e-03  3.838751e-03   \n1  1.522209e-03  2.519582e-03  3.101818e-03  4.853127e-03  3.602354e-03   \n2  1.197323e-03  1.221456e-03  9.838165e-04  1.504003e-03  1.655294e-03   \n3  2.069973e-03  2.700931e-03  2.211849e-03  2.078804e-03  1.813579e-03   \n4  2.386258e-15  1.163291e-15  1.013872e-15  9.230364e-16  8.444156e-16   \n\n            145           146           147  labels  \n0  3.899830e-03  3.291206e-03  1.600879e-04   angry  \n1  2.122099e-03  6.534071e-04  3.202234e-05   angry  \n2  1.661395e-03  1.403580e-03  6.657085e-05   angry  \n3  1.936400e-03  1.159482e-03  8.035084e-05    fear  \n4  8.136342e-16  7.685942e-16  7.443453e-16    fear  \n\n[5 rows x 149 columns]",
      "text/html": "<div>\n<style scoped>\n    .dataframe tbody tr th:only-of-type {\n        vertical-align: middle;\n    }\n\n    .dataframe tbody tr th {\n        vertical-align: top;\n    }\n\n    .dataframe thead th {\n        text-align: right;\n    }\n</style>\n<table border=\"1\" class=\"dataframe\">\n  <thead>\n    <tr style=\"text-align: right;\">\n      <th></th>\n      <th>0</th>\n      <th>1</th>\n      <th>2</th>\n      <th>3</th>\n      <th>4</th>\n      <th>5</th>\n      <th>6</th>\n      <th>7</th>\n      <th>8</th>\n      <th>9</th>\n      <th>...</th>\n      <th>139</th>\n      <th>140</th>\n      <th>141</th>\n      <th>142</th>\n      <th>143</th>\n      <th>144</th>\n      <th>145</th>\n      <th>146</th>\n      <th>147</th>\n      <th>labels</th>\n    </tr>\n  </thead>\n  <tbody>\n    <tr>\n      <th>0</th>\n      <td>-542.260559</td>\n      <td>33.782993</td>\n      <td>-3.803620</td>\n      <td>3.091988</td>\n      <td>-9.681703</td>\n      <td>-6.023736</td>\n      <td>-8.644806</td>\n      <td>-11.424563</td>\n      <td>-11.615019</td>\n      <td>-1.289247</td>\n      <td>...</td>\n      <td>4.270245e-03</td>\n      <td>2.580150e-03</td>\n      <td>3.102504e-03</td>\n      <td>2.955016e-03</td>\n      <td>3.657512e-03</td>\n      <td>3.838751e-03</td>\n      <td>3.899830e-03</td>\n      <td>3.291206e-03</td>\n      <td>1.600879e-04</td>\n      <td>angry</td>\n    </tr>\n    <tr>\n      <th>1</th>\n      <td>-570.159729</td>\n      <td>30.117447</td>\n      <td>-7.453498</td>\n      <td>-2.850819</td>\n      <td>-14.895274</td>\n      <td>-8.587306</td>\n      <td>-14.607397</td>\n      <td>-13.201256</td>\n      <td>-5.196628</td>\n      <td>-2.455241</td>\n      <td>...</td>\n      <td>1.703547e-03</td>\n      <td>1.522209e-03</td>\n      <td>2.519582e-03</td>\n      <td>3.101818e-03</td>\n      <td>4.853127e-03</td>\n      <td>3.602354e-03</td>\n      <td>2.122099e-03</td>\n      <td>6.534071e-04</td>\n      <td>3.202234e-05</td>\n      <td>angry</td>\n    </tr>\n    <tr>\n      <th>2</th>\n      <td>-577.448364</td>\n      <td>34.654255</td>\n      <td>-4.908528</td>\n      <td>1.294168</td>\n      <td>-11.147126</td>\n      <td>-6.210771</td>\n      <td>-9.283228</td>\n      <td>-12.457656</td>\n      <td>-12.527025</td>\n      <td>-0.288357</td>\n      <td>...</td>\n      <td>1.712110e-03</td>\n      <td>1.197323e-03</td>\n      <td>1.221456e-03</td>\n      <td>9.838165e-04</td>\n      <td>1.504003e-03</td>\n      <td>1.655294e-03</td>\n      <td>1.661395e-03</td>\n      <td>1.403580e-03</td>\n      <td>6.657085e-05</td>\n      <td>angry</td>\n    </tr>\n    <tr>\n      <th>3</th>\n      <td>-550.819153</td>\n      <td>37.232445</td>\n      <td>-5.966861</td>\n      <td>4.732355</td>\n      <td>-2.008577</td>\n      <td>-9.404687</td>\n      <td>-14.451254</td>\n      <td>-14.265598</td>\n      <td>-8.414462</td>\n      <td>0.758801</td>\n      <td>...</td>\n      <td>1.824054e-03</td>\n      <td>2.069973e-03</td>\n      <td>2.700931e-03</td>\n      <td>2.211849e-03</td>\n      <td>2.078804e-03</td>\n      <td>1.813579e-03</td>\n      <td>1.936400e-03</td>\n      <td>1.159482e-03</td>\n      <td>8.035084e-05</td>\n      <td>fear</td>\n    </tr>\n    <tr>\n      <th>4</th>\n      <td>-576.079102</td>\n      <td>56.723660</td>\n      <td>-13.233316</td>\n      <td>15.551181</td>\n      <td>-7.347561</td>\n      <td>10.781767</td>\n      <td>-8.620719</td>\n      <td>-1.634438</td>\n      <td>-14.533536</td>\n      <td>-16.820402</td>\n      <td>...</td>\n      <td>2.571960e-15</td>\n      <td>2.386258e-15</td>\n      <td>1.163291e-15</td>\n      <td>1.013872e-15</td>\n      <td>9.230364e-16</td>\n      <td>8.444156e-16</td>\n      <td>8.136342e-16</td>\n      <td>7.685942e-16</td>\n      <td>7.443453e-16</td>\n      <td>fear</td>\n    </tr>\n  </tbody>\n</table>\n<p>5 rows × 149 columns</p>\n</div>"
     },
     "execution_count": 25,
     "metadata": {},
     "output_type": "execute_result"
    }
   ],
   "source": [
    "Features = pd.DataFrame(X)\n",
    "Features['labels'] = Y\n",
    "Features.to_csv('emotion_features.csv', index=False)\n",
    "Features.head()"
   ],
   "metadata": {
    "collapsed": false,
    "ExecuteTime": {
     "end_time": "2024-02-28T15:05:44.140789Z",
     "start_time": "2024-02-28T15:05:39.365111Z"
    }
   },
   "id": "75716375eeb7241"
  },
  {
   "cell_type": "code",
   "execution_count": 27,
   "outputs": [
    {
     "data": {
      "text/plain": "            0          1          2          3          4          5  \\\n0 -542.260559  33.782993  -3.803620   3.091988  -9.681703  -6.023736   \n1 -570.159729  30.117447  -7.453498  -2.850819 -14.895274  -8.587306   \n2 -577.448364  34.654255  -4.908528   1.294168 -11.147126  -6.210771   \n3 -550.819153  37.232445  -5.966861   4.732355  -2.008577  -9.404687   \n4 -576.079102  56.723660 -13.233316  15.551181  -7.347561  10.781767   \n\n           6          7          8          9  ...           139  \\\n0  -8.644806 -11.424563 -11.615019  -1.289247  ...  4.270245e-03   \n1 -14.607397 -13.201256  -5.196628  -2.455241  ...  1.703547e-03   \n2  -9.283228 -12.457656 -12.527025  -0.288357  ...  1.712110e-03   \n3 -14.451254 -14.265598  -8.414462   0.758801  ...  1.824054e-03   \n4  -8.620719  -1.634438 -14.533536 -16.820402  ...  2.571960e-15   \n\n            140           141           142           143           144  \\\n0  2.580150e-03  3.102504e-03  2.955016e-03  3.657512e-03  3.838751e-03   \n1  1.522209e-03  2.519582e-03  3.101818e-03  4.853127e-03  3.602354e-03   \n2  1.197323e-03  1.221456e-03  9.838165e-04  1.504003e-03  1.655294e-03   \n3  2.069973e-03  2.700931e-03  2.211849e-03  2.078804e-03  1.813579e-03   \n4  2.386258e-15  1.163291e-15  1.013872e-15  9.230364e-16  8.444156e-16   \n\n            145           146           147  labels  \n0  3.899830e-03  3.291206e-03  1.600879e-04       0  \n1  2.122099e-03  6.534071e-04  3.202234e-05       0  \n2  1.661395e-03  1.403580e-03  6.657085e-05       0  \n3  1.936400e-03  1.159482e-03  8.035084e-05       1  \n4  8.136342e-16  7.685942e-16  7.443453e-16       1  \n\n[5 rows x 149 columns]",
      "text/html": "<div>\n<style scoped>\n    .dataframe tbody tr th:only-of-type {\n        vertical-align: middle;\n    }\n\n    .dataframe tbody tr th {\n        vertical-align: top;\n    }\n\n    .dataframe thead th {\n        text-align: right;\n    }\n</style>\n<table border=\"1\" class=\"dataframe\">\n  <thead>\n    <tr style=\"text-align: right;\">\n      <th></th>\n      <th>0</th>\n      <th>1</th>\n      <th>2</th>\n      <th>3</th>\n      <th>4</th>\n      <th>5</th>\n      <th>6</th>\n      <th>7</th>\n      <th>8</th>\n      <th>9</th>\n      <th>...</th>\n      <th>139</th>\n      <th>140</th>\n      <th>141</th>\n      <th>142</th>\n      <th>143</th>\n      <th>144</th>\n      <th>145</th>\n      <th>146</th>\n      <th>147</th>\n      <th>labels</th>\n    </tr>\n  </thead>\n  <tbody>\n    <tr>\n      <th>0</th>\n      <td>-542.260559</td>\n      <td>33.782993</td>\n      <td>-3.803620</td>\n      <td>3.091988</td>\n      <td>-9.681703</td>\n      <td>-6.023736</td>\n      <td>-8.644806</td>\n      <td>-11.424563</td>\n      <td>-11.615019</td>\n      <td>-1.289247</td>\n      <td>...</td>\n      <td>4.270245e-03</td>\n      <td>2.580150e-03</td>\n      <td>3.102504e-03</td>\n      <td>2.955016e-03</td>\n      <td>3.657512e-03</td>\n      <td>3.838751e-03</td>\n      <td>3.899830e-03</td>\n      <td>3.291206e-03</td>\n      <td>1.600879e-04</td>\n      <td>0</td>\n    </tr>\n    <tr>\n      <th>1</th>\n      <td>-570.159729</td>\n      <td>30.117447</td>\n      <td>-7.453498</td>\n      <td>-2.850819</td>\n      <td>-14.895274</td>\n      <td>-8.587306</td>\n      <td>-14.607397</td>\n      <td>-13.201256</td>\n      <td>-5.196628</td>\n      <td>-2.455241</td>\n      <td>...</td>\n      <td>1.703547e-03</td>\n      <td>1.522209e-03</td>\n      <td>2.519582e-03</td>\n      <td>3.101818e-03</td>\n      <td>4.853127e-03</td>\n      <td>3.602354e-03</td>\n      <td>2.122099e-03</td>\n      <td>6.534071e-04</td>\n      <td>3.202234e-05</td>\n      <td>0</td>\n    </tr>\n    <tr>\n      <th>2</th>\n      <td>-577.448364</td>\n      <td>34.654255</td>\n      <td>-4.908528</td>\n      <td>1.294168</td>\n      <td>-11.147126</td>\n      <td>-6.210771</td>\n      <td>-9.283228</td>\n      <td>-12.457656</td>\n      <td>-12.527025</td>\n      <td>-0.288357</td>\n      <td>...</td>\n      <td>1.712110e-03</td>\n      <td>1.197323e-03</td>\n      <td>1.221456e-03</td>\n      <td>9.838165e-04</td>\n      <td>1.504003e-03</td>\n      <td>1.655294e-03</td>\n      <td>1.661395e-03</td>\n      <td>1.403580e-03</td>\n      <td>6.657085e-05</td>\n      <td>0</td>\n    </tr>\n    <tr>\n      <th>3</th>\n      <td>-550.819153</td>\n      <td>37.232445</td>\n      <td>-5.966861</td>\n      <td>4.732355</td>\n      <td>-2.008577</td>\n      <td>-9.404687</td>\n      <td>-14.451254</td>\n      <td>-14.265598</td>\n      <td>-8.414462</td>\n      <td>0.758801</td>\n      <td>...</td>\n      <td>1.824054e-03</td>\n      <td>2.069973e-03</td>\n      <td>2.700931e-03</td>\n      <td>2.211849e-03</td>\n      <td>2.078804e-03</td>\n      <td>1.813579e-03</td>\n      <td>1.936400e-03</td>\n      <td>1.159482e-03</td>\n      <td>8.035084e-05</td>\n      <td>1</td>\n    </tr>\n    <tr>\n      <th>4</th>\n      <td>-576.079102</td>\n      <td>56.723660</td>\n      <td>-13.233316</td>\n      <td>15.551181</td>\n      <td>-7.347561</td>\n      <td>10.781767</td>\n      <td>-8.620719</td>\n      <td>-1.634438</td>\n      <td>-14.533536</td>\n      <td>-16.820402</td>\n      <td>...</td>\n      <td>2.571960e-15</td>\n      <td>2.386258e-15</td>\n      <td>1.163291e-15</td>\n      <td>1.013872e-15</td>\n      <td>9.230364e-16</td>\n      <td>8.444156e-16</td>\n      <td>8.136342e-16</td>\n      <td>7.685942e-16</td>\n      <td>7.443453e-16</td>\n      <td>1</td>\n    </tr>\n  </tbody>\n</table>\n<p>5 rows × 149 columns</p>\n</div>"
     },
     "execution_count": 27,
     "metadata": {},
     "output_type": "execute_result"
    }
   ],
   "source": [
    "emotion_df = pd.read_csv('emotion_features.csv')\n",
    "labels = emotion_df['labels']\n",
    "label_mapping = {\n",
    "    'angry': 0,\n",
    "    'fear': 1,\n",
    "    'disgust': 2,\n",
    "    'sad': 3,\n",
    "    'happy': 4,\n",
    "    'neutral': 5\n",
    "}\n",
    "\n",
    "numerical_labels = labels.map(label_mapping)\n",
    "emotion_df['labels'] = numerical_labels\n",
    "emotion_df.head()"
   ],
   "metadata": {
    "collapsed": false,
    "ExecuteTime": {
     "end_time": "2024-02-28T15:08:44.057351Z",
     "start_time": "2024-02-28T15:08:43.521452Z"
    }
   },
   "id": "3b43a8f56cf8cf8f"
  },
  {
   "cell_type": "code",
   "execution_count": 28,
   "outputs": [],
   "source": [
    "X = emotion_df.iloc[: ,:-1].values\n",
    "Y = emotion_df['labels'].values"
   ],
   "metadata": {
    "collapsed": false,
    "ExecuteTime": {
     "end_time": "2024-02-28T15:09:10.441804Z",
     "start_time": "2024-02-28T15:09:10.420197Z"
    }
   },
   "id": "78092e82cde2c299"
  },
  {
   "cell_type": "code",
   "execution_count": 29,
   "outputs": [
    {
     "data": {
      "text/plain": "((25960, 148), (25960,), (8654, 148), (8654,))"
     },
     "execution_count": 29,
     "metadata": {},
     "output_type": "execute_result"
    }
   ],
   "source": [
    "x_train, x_test, y_train, y_test = train_test_split(X, Y, random_state=0, shuffle=True)\n",
    "x_train.shape, y_train.shape, x_test.shape, y_test.shape"
   ],
   "metadata": {
    "collapsed": false,
    "ExecuteTime": {
     "end_time": "2024-02-28T15:09:21.309163Z",
     "start_time": "2024-02-28T15:09:21.269394Z"
    }
   },
   "id": "930278aebb81bb1b"
  },
  {
   "cell_type": "code",
   "execution_count": 30,
   "outputs": [
    {
     "data": {
      "text/plain": "((25960, 148), (25960,), (8654, 148), (8654,))"
     },
     "execution_count": 30,
     "metadata": {},
     "output_type": "execute_result"
    }
   ],
   "source": [
    "scaler = StandardScaler()\n",
    "x_train = scaler.fit_transform(x_train)\n",
    "x_test = scaler.transform(x_test)\n",
    "x_train.shape, y_train.shape, x_test.shape, y_test.shape"
   ],
   "metadata": {
    "collapsed": false,
    "ExecuteTime": {
     "end_time": "2024-02-28T15:09:48.248039Z",
     "start_time": "2024-02-28T15:09:48.199250Z"
    }
   },
   "id": "826df7ef439fddad"
  },
  {
   "cell_type": "code",
   "execution_count": 31,
   "outputs": [
    {
     "data": {
      "text/plain": "((25960, 148, 1), (25960,), (8654, 148, 1), (8654,))"
     },
     "execution_count": 31,
     "metadata": {},
     "output_type": "execute_result"
    }
   ],
   "source": [
    "# making our data compatible to model.\n",
    "x_train = np.expand_dims(x_train, axis=2)\n",
    "x_test = np.expand_dims(x_test, axis=2)\n",
    "x_train.shape, y_train.shape, x_test.shape, y_test.shape"
   ],
   "metadata": {
    "collapsed": false,
    "ExecuteTime": {
     "end_time": "2024-02-28T15:10:15.506413Z",
     "start_time": "2024-02-28T15:10:15.473763Z"
    }
   },
   "id": "76163656756a9495"
  },
  {
   "cell_type": "code",
   "execution_count": 35,
   "outputs": [
    {
     "name": "stdout",
     "output_type": "stream",
     "text": [
      "Epoch 1/50\n",
      "812/812 [==============================] - 18s 22ms/step - loss: 1.3721 - accuracy: 0.4375 - val_loss: 1.1972 - val_accuracy: 0.5109 - lr: 0.0010\n",
      "Epoch 2/50\n",
      "812/812 [==============================] - 18s 22ms/step - loss: 1.1569 - accuracy: 0.5346 - val_loss: 1.1098 - val_accuracy: 0.5615 - lr: 0.0010\n",
      "Epoch 3/50\n",
      "812/812 [==============================] - 18s 22ms/step - loss: 1.0585 - accuracy: 0.5789 - val_loss: 1.0672 - val_accuracy: 0.5720 - lr: 0.0010\n",
      "Epoch 4/50\n",
      "812/812 [==============================] - 19s 23ms/step - loss: 0.9787 - accuracy: 0.6154 - val_loss: 1.0272 - val_accuracy: 0.5922 - lr: 0.0010\n",
      "Epoch 5/50\n",
      "812/812 [==============================] - 20s 24ms/step - loss: 0.9027 - accuracy: 0.6445 - val_loss: 0.9988 - val_accuracy: 0.6079 - lr: 0.0010\n",
      "Epoch 6/50\n",
      "812/812 [==============================] - 19s 24ms/step - loss: 0.8226 - accuracy: 0.6750 - val_loss: 1.0012 - val_accuracy: 0.6208 - lr: 0.0010\n",
      "Epoch 7/50\n",
      "812/812 [==============================] - 20s 24ms/step - loss: 0.7474 - accuracy: 0.7083 - val_loss: 0.9878 - val_accuracy: 0.6269 - lr: 0.0010\n",
      "Epoch 8/50\n",
      "812/812 [==============================] - 19s 23ms/step - loss: 0.6796 - accuracy: 0.7369 - val_loss: 1.0221 - val_accuracy: 0.6266 - lr: 0.0010\n",
      "Epoch 9/50\n",
      "812/812 [==============================] - 19s 24ms/step - loss: 0.5998 - accuracy: 0.7668 - val_loss: 1.0441 - val_accuracy: 0.6409 - lr: 0.0010\n",
      "Epoch 10/50\n",
      "812/812 [==============================] - 19s 23ms/step - loss: 0.5599 - accuracy: 0.7841 - val_loss: 1.0437 - val_accuracy: 0.6577 - lr: 0.0010\n",
      "Epoch 11/50\n",
      "812/812 [==============================] - 19s 23ms/step - loss: 0.4949 - accuracy: 0.8079 - val_loss: 1.0688 - val_accuracy: 0.6595 - lr: 0.0010\n",
      "Epoch 12/50\n",
      "812/812 [==============================] - 19s 23ms/step - loss: 0.4477 - accuracy: 0.8276 - val_loss: 1.1452 - val_accuracy: 0.6634 - lr: 0.0010\n",
      "Epoch 13/50\n",
      "812/812 [==============================] - 19s 24ms/step - loss: 0.4106 - accuracy: 0.8409 - val_loss: 1.1939 - val_accuracy: 0.6733 - lr: 0.0010\n",
      "Epoch 14/50\n",
      "812/812 [==============================] - 19s 23ms/step - loss: 0.3785 - accuracy: 0.8555 - val_loss: 1.2658 - val_accuracy: 0.6687 - lr: 0.0010\n",
      "Epoch 15/50\n",
      "812/812 [==============================] - 20s 24ms/step - loss: 0.3586 - accuracy: 0.8632 - val_loss: 1.2565 - val_accuracy: 0.6804 - lr: 0.0010\n",
      "Epoch 16/50\n",
      "812/812 [==============================] - 19s 24ms/step - loss: 0.3293 - accuracy: 0.8780 - val_loss: 1.3017 - val_accuracy: 0.6758 - lr: 0.0010\n",
      "Epoch 17/50\n",
      "812/812 [==============================] - 19s 23ms/step - loss: 0.3254 - accuracy: 0.8797 - val_loss: 1.3652 - val_accuracy: 0.6696 - lr: 0.0010\n",
      "Epoch 18/50\n",
      "812/812 [==============================] - 19s 24ms/step - loss: 0.2980 - accuracy: 0.8914 - val_loss: 1.3731 - val_accuracy: 0.6870 - lr: 0.0010\n",
      "Epoch 19/50\n",
      "812/812 [==============================] - 19s 24ms/step - loss: 0.2482 - accuracy: 0.9061 - val_loss: 1.5566 - val_accuracy: 0.6762 - lr: 0.0010\n",
      "Epoch 20/50\n",
      "812/812 [==============================] - 19s 23ms/step - loss: 0.2465 - accuracy: 0.9082 - val_loss: 1.5452 - val_accuracy: 0.6826 - lr: 0.0010\n",
      "Epoch 21/50\n",
      "812/812 [==============================] - 18s 23ms/step - loss: 0.2276 - accuracy: 0.9155 - val_loss: 1.5408 - val_accuracy: 0.6895 - lr: 0.0010\n",
      "Epoch 22/50\n",
      "812/812 [==============================] - 19s 24ms/step - loss: 0.2311 - accuracy: 0.9139 - val_loss: 1.6350 - val_accuracy: 0.6815 - lr: 0.0010\n",
      "Epoch 23/50\n",
      "812/812 [==============================] - 19s 24ms/step - loss: 0.2173 - accuracy: 0.9203 - val_loss: 1.7041 - val_accuracy: 0.6877 - lr: 0.0010\n",
      "Epoch 24/50\n",
      "812/812 [==============================] - 20s 24ms/step - loss: 0.2141 - accuracy: 0.9235 - val_loss: 1.8226 - val_accuracy: 0.6774 - lr: 0.0010\n",
      "Epoch 25/50\n",
      "812/812 [==============================] - 20s 25ms/step - loss: 0.2057 - accuracy: 0.9283 - val_loss: 1.6891 - val_accuracy: 0.6848 - lr: 0.0010\n",
      "Epoch 26/50\n",
      "812/812 [==============================] - 19s 24ms/step - loss: 0.1813 - accuracy: 0.9343 - val_loss: 1.7683 - val_accuracy: 0.6755 - lr: 0.0010\n",
      "Epoch 27/50\n",
      "812/812 [==============================] - 20s 24ms/step - loss: 0.1922 - accuracy: 0.9314 - val_loss: 1.8585 - val_accuracy: 0.6983 - lr: 0.0010\n",
      "Epoch 28/50\n",
      "812/812 [==============================] - 20s 24ms/step - loss: 0.1800 - accuracy: 0.9374 - val_loss: 1.8276 - val_accuracy: 0.6989 - lr: 0.0010\n",
      "Epoch 29/50\n",
      "812/812 [==============================] - 20s 24ms/step - loss: 0.1671 - accuracy: 0.9418 - val_loss: 1.9704 - val_accuracy: 0.6988 - lr: 0.0010\n",
      "Epoch 30/50\n",
      "812/812 [==============================] - 19s 23ms/step - loss: 0.1760 - accuracy: 0.9409 - val_loss: 1.9845 - val_accuracy: 0.6984 - lr: 0.0010\n",
      "Epoch 31/50\n",
      "812/812 [==============================] - 19s 23ms/step - loss: 0.1503 - accuracy: 0.9480 - val_loss: 1.9652 - val_accuracy: 0.6981 - lr: 0.0010\n",
      "Epoch 32/50\n",
      "812/812 [==============================] - 19s 24ms/step - loss: 0.1487 - accuracy: 0.9465 - val_loss: 2.1961 - val_accuracy: 0.6926 - lr: 0.0010\n",
      "Epoch 33/50\n",
      "812/812 [==============================] - 19s 23ms/step - loss: 0.1706 - accuracy: 0.9431 - val_loss: 2.0217 - val_accuracy: 0.6969 - lr: 0.0010\n",
      "Epoch 34/50\n",
      "812/812 [==============================] - 20s 24ms/step - loss: 0.1584 - accuracy: 0.9466 - val_loss: 2.0671 - val_accuracy: 0.6919 - lr: 0.0010\n",
      "Epoch 35/50\n",
      "812/812 [==============================] - 18s 22ms/step - loss: 0.0816 - accuracy: 0.9720 - val_loss: 2.1213 - val_accuracy: 0.7182 - lr: 4.0000e-04\n",
      "Epoch 36/50\n",
      "812/812 [==============================] - 19s 23ms/step - loss: 0.0498 - accuracy: 0.9830 - val_loss: 2.2512 - val_accuracy: 0.7194 - lr: 4.0000e-04\n",
      "Epoch 37/50\n",
      "812/812 [==============================] - 18s 22ms/step - loss: 0.0424 - accuracy: 0.9857 - val_loss: 2.3476 - val_accuracy: 0.7176 - lr: 4.0000e-04\n",
      "Epoch 38/50\n",
      "812/812 [==============================] - 18s 23ms/step - loss: 0.0443 - accuracy: 0.9854 - val_loss: 2.3806 - val_accuracy: 0.7156 - lr: 4.0000e-04\n",
      "Epoch 39/50\n",
      "812/812 [==============================] - 18s 22ms/step - loss: 0.0431 - accuracy: 0.9851 - val_loss: 2.5548 - val_accuracy: 0.7184 - lr: 4.0000e-04\n",
      "Epoch 40/50\n",
      "812/812 [==============================] - 18s 22ms/step - loss: 0.0277 - accuracy: 0.9914 - val_loss: 2.6469 - val_accuracy: 0.7219 - lr: 1.6000e-04\n",
      "Epoch 41/50\n",
      "812/812 [==============================] - 18s 22ms/step - loss: 0.0198 - accuracy: 0.9940 - val_loss: 2.6586 - val_accuracy: 0.7213 - lr: 1.6000e-04\n",
      "Epoch 42/50\n",
      "812/812 [==============================] - 18s 22ms/step - loss: 0.0198 - accuracy: 0.9933 - val_loss: 2.7522 - val_accuracy: 0.7226 - lr: 1.6000e-04\n",
      "Epoch 43/50\n",
      "812/812 [==============================] - 18s 22ms/step - loss: 0.0177 - accuracy: 0.9943 - val_loss: 2.7722 - val_accuracy: 0.7222 - lr: 1.6000e-04\n",
      "Epoch 44/50\n",
      "812/812 [==============================] - 18s 22ms/step - loss: 0.0176 - accuracy: 0.9949 - val_loss: 2.7266 - val_accuracy: 0.7221 - lr: 1.6000e-04\n",
      "Epoch 45/50\n",
      "812/812 [==============================] - 19s 23ms/step - loss: 0.0181 - accuracy: 0.9941 - val_loss: 2.8587 - val_accuracy: 0.7230 - lr: 1.6000e-04\n",
      "Epoch 46/50\n",
      "812/812 [==============================] - 18s 22ms/step - loss: 0.0167 - accuracy: 0.9949 - val_loss: 2.8733 - val_accuracy: 0.7216 - lr: 1.6000e-04\n",
      "Epoch 47/50\n",
      "812/812 [==============================] - 18s 22ms/step - loss: 0.0141 - accuracy: 0.9953 - val_loss: 2.9098 - val_accuracy: 0.7234 - lr: 1.6000e-04\n",
      "Epoch 48/50\n",
      "812/812 [==============================] - 18s 22ms/step - loss: 0.0150 - accuracy: 0.9955 - val_loss: 2.9302 - val_accuracy: 0.7221 - lr: 1.6000e-04\n",
      "Epoch 49/50\n",
      "812/812 [==============================] - 18s 23ms/step - loss: 0.0164 - accuracy: 0.9950 - val_loss: 2.9656 - val_accuracy: 0.7252 - lr: 1.6000e-04\n",
      "Epoch 50/50\n",
      "812/812 [==============================] - 19s 23ms/step - loss: 0.0113 - accuracy: 0.9966 - val_loss: 3.0257 - val_accuracy: 0.7241 - lr: 6.4000e-05\n"
     ]
    }
   ],
   "source": [
    "ser_model = create_cnn_model((148,1), 112, 4, 0.3)\n",
    "rlrp = ReduceLROnPlateau(monitor='loss', factor=0.4, verbose=0, patience=2, min_lr=0.0000001)\n",
    "ser_model_16_history = ser_model.fit(x_train, y_train, batch_size=32, epochs=50, validation_data=(x_test, y_test), callbacks=[rlrp])"
   ],
   "metadata": {
    "collapsed": false,
    "ExecuteTime": {
     "end_time": "2024-02-28T15:28:54.616556Z",
     "start_time": "2024-02-28T15:13:15.000869Z"
    }
   },
   "id": "8544b83d0f39b437"
  },
  {
   "cell_type": "code",
   "execution_count": 36,
   "outputs": [
    {
     "name": "stdout",
     "output_type": "stream",
     "text": [
      "271/271 [==============================] - 2s 7ms/step - loss: 3.0257 - accuracy: 0.7241\n",
      "Accuracy of model on test data :  72.4058210849762 %\n"
     ]
    }
   ],
   "source": [
    "print(\"Accuracy of model on test data : \", ser_model.evaluate(x_test, y_test)[1] * 100, \"%\")"
   ],
   "metadata": {
    "collapsed": false,
    "ExecuteTime": {
     "end_time": "2024-02-28T15:29:20.551137Z",
     "start_time": "2024-02-28T15:29:18.515474Z"
    }
   },
   "id": "adc294a35cab280c"
  },
  {
   "cell_type": "code",
   "execution_count": 37,
   "outputs": [
    {
     "data": {
      "text/plain": "<Figure size 4000x1200 with 2 Axes>",
      "image/png": "[encoded data removed]"
     },
     "metadata": {},
     "output_type": "display_data"
    }
   ],
   "source": [
    "visualize_training(50, ser_model_16_history)"
   ],
   "metadata": {
    "collapsed": false,
    "ExecuteTime": {
     "end_time": "2024-02-28T15:29:39.329519Z",
     "start_time": "2024-02-28T15:29:39.016436Z"
    }
   },
   "id": "86da697be978d5a9"
  },
  {
   "cell_type": "code",
   "execution_count": 38,
   "outputs": [
    {
     "name": "stdout",
     "output_type": "stream",
     "text": [
      "271/271 [==============================] - 2s 7ms/step\n"
     ]
    },
    {
     "data": {
      "text/plain": "array([1.0262584e-06, 5.6190449e-03, 6.5128498e-02, 1.3889777e-21,\n       9.2925143e-01, 3.6916425e-16], dtype=float32)"
     },
     "execution_count": 38,
     "metadata": {},
     "output_type": "execute_result"
    }
   ],
   "source": [
    "pred_test = ser_model.predict(x_test)\n",
    "pred_test[1]"
   ],
   "metadata": {
    "collapsed": false,
    "ExecuteTime": {
     "end_time": "2024-02-28T15:29:55.402937Z",
     "start_time": "2024-02-28T15:29:53.302527Z"
    }
   },
   "id": "8df7c37c44377410"
  },
  {
   "cell_type": "code",
   "execution_count": 39,
   "outputs": [
    {
     "data": {
      "text/plain": "4"
     },
     "execution_count": 39,
     "metadata": {},
     "output_type": "execute_result"
    }
   ],
   "source": [
    "np.argmax(pred_test[1])"
   ],
   "metadata": {
    "collapsed": false,
    "ExecuteTime": {
     "end_time": "2024-02-28T15:30:15.319008Z",
     "start_time": "2024-02-28T15:30:15.288836Z"
    }
   },
   "id": "ad17101914c01b41"
  },
  {
   "cell_type": "code",
   "execution_count": 40,
   "outputs": [],
   "source": [
    "ser_model.save('ser-model.h5')"
   ],
   "metadata": {
    "collapsed": false,
    "ExecuteTime": {
     "end_time": "2024-02-28T15:30:28.824808Z",
     "start_time": "2024-02-28T15:30:28.792657Z"
    }
   },
   "id": "771bd5d4187e5264"
  },
  {
   "cell_type": "code",
   "execution_count": 41,
   "outputs": [
    {
     "data": {
      "text/plain": "[2, 4, 0, 2, 0]"
     },
     "execution_count": 41,
     "metadata": {},
     "output_type": "execute_result"
    }
   ],
   "source": [
    "predicted_labels = [np.argmax(i) for i in pred_test]\n",
    "predicted_labels[:5]"
   ],
   "metadata": {
    "collapsed": false,
    "ExecuteTime": {
     "end_time": "2024-02-28T15:48:45.496309Z",
     "start_time": "2024-02-28T15:48:45.473188Z"
    }
   },
   "id": "24f7ab7b924a8481"
  },
  {
   "cell_type": "code",
   "execution_count": 43,
   "outputs": [
    {
     "data": {
      "text/plain": "   Predicted Labels  Actual Labels\n0                 2              2\n1                 4              1\n2                 0              0\n3                 2              2\n4                 0              0\n5                 3              3\n6                 5              3\n7                 2              2\n8                 0              0\n9                 5              5",
      "text/html": "<div>\n<style scoped>\n    .dataframe tbody tr th:only-of-type {\n        vertical-align: middle;\n    }\n\n    .dataframe tbody tr th {\n        vertical-align: top;\n    }\n\n    .dataframe thead th {\n        text-align: right;\n    }\n</style>\n<table border=\"1\" class=\"dataframe\">\n  <thead>\n    <tr style=\"text-align: right;\">\n      <th></th>\n      <th>Predicted Labels</th>\n      <th>Actual Labels</th>\n    </tr>\n  </thead>\n  <tbody>\n    <tr>\n      <th>0</th>\n      <td>2</td>\n      <td>2</td>\n    </tr>\n    <tr>\n      <th>1</th>\n      <td>4</td>\n      <td>1</td>\n    </tr>\n    <tr>\n      <th>2</th>\n      <td>0</td>\n      <td>0</td>\n    </tr>\n    <tr>\n      <th>3</th>\n      <td>2</td>\n      <td>2</td>\n    </tr>\n    <tr>\n      <th>4</th>\n      <td>0</td>\n      <td>0</td>\n    </tr>\n    <tr>\n      <th>5</th>\n      <td>3</td>\n      <td>3</td>\n    </tr>\n    <tr>\n      <th>6</th>\n      <td>5</td>\n      <td>3</td>\n    </tr>\n    <tr>\n      <th>7</th>\n      <td>2</td>\n      <td>2</td>\n    </tr>\n    <tr>\n      <th>8</th>\n      <td>0</td>\n      <td>0</td>\n    </tr>\n    <tr>\n      <th>9</th>\n      <td>5</td>\n      <td>5</td>\n    </tr>\n  </tbody>\n</table>\n</div>"
     },
     "execution_count": 43,
     "metadata": {},
     "output_type": "execute_result"
    }
   ],
   "source": [
    "df = pd.DataFrame(columns=['Predicted Labels', 'Actual Labels'])\n",
    "df['Predicted Labels'] = predicted_labels\n",
    "df['Actual Labels'] = y_test.flatten()\n",
    "\n",
    "df.head(10)"
   ],
   "metadata": {
    "collapsed": false,
    "ExecuteTime": {
     "end_time": "2024-02-28T15:49:04.560235Z",
     "start_time": "2024-02-28T15:49:04.539032Z"
    }
   },
   "id": "17f78cb331fce8b0"
  },
  {
   "cell_type": "code",
   "execution_count": 45,
   "outputs": [
    {
     "data": {
      "text/plain": "<Figure size 1200x1000 with 2 Axes>",
      "image/png": "[encoded data removed]"
     },
     "metadata": {},
     "output_type": "display_data"
    }
   ],
   "source": [
    "display_confusion_matrix(y_test,predicted_labels)"
   ],
   "metadata": {
    "collapsed": false,
    "ExecuteTime": {
     "end_time": "2024-02-28T16:28:01.191768Z",
     "start_time": "2024-02-28T16:28:01.031962Z"
    }
   },
   "id": "359672a5f1961cb8"
  },
  {
   "cell_type": "code",
   "execution_count": 46,
   "outputs": [
    {
     "name": "stdout",
     "output_type": "stream",
     "text": [
      "              precision    recall  f1-score   support\n",
      "\n",
      "           0       0.82      0.82      0.82      1515\n",
      "           1       0.73      0.66      0.69      1438\n",
      "           2       0.70      0.67      0.68      1474\n",
      "           3       0.69      0.72      0.70      1355\n",
      "           4       0.67      0.74      0.70      1382\n",
      "           5       0.73      0.74      0.74      1490\n",
      "\n",
      "    accuracy                           0.72      8654\n",
      "   macro avg       0.72      0.72      0.72      8654\n",
      "weighted avg       0.73      0.72      0.72      8654\n",
      "\n"
     ]
    }
   ],
   "source": [
    "print(classification_report(y_test, predicted_labels))"
   ],
   "metadata": {
    "collapsed": false,
    "ExecuteTime": {
     "end_time": "2024-02-28T16:55:05.975184Z",
     "start_time": "2024-02-28T16:55:05.942303Z"
    }
   },
   "id": "fd93c4015b1c6158"
  },
  {
   "cell_type": "code",
   "execution_count": null,
   "outputs": [],
   "source": [],
   "metadata": {
    "collapsed": false
   },
   "id": "fde01dc4f93121ba"
  }
 ],
 "metadata": {
  "kernelspec": {
   "display_name": "Python 3",
   "language": "python",
   "name": "python3"
  },
  "language_info": {
   "codemirror_mode": {
    "name": "ipython",
    "version": 2
   },
   "file_extension": ".py",
   "mimetype": "text/x-python",
   "name": "python",
   "nbconvert_exporter": "python",
   "pygments_lexer": "ipython2",
   "version": "2.7.6"
  }
 },
 "nbformat": 4,
 "nbformat_minor": 5
}
